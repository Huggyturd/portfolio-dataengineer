{
 "cells": [
  {
   "cell_type": "markdown",
   "id": "fc8b52a1-2eac-442f-ba2b-60728283979d",
   "metadata": {},
   "source": [
    "Bibliotecas"
   ]
  },
  {
   "cell_type": "code",
   "execution_count": 9,
   "id": "769e2040-3d94-49db-9047-65368a1cf000",
   "metadata": {},
   "outputs": [],
   "source": [
    "from pyspark.sql import SparkSession\n",
    "from pyspark.sql.functions import col"
   ]
  },
  {
   "cell_type": "code",
   "execution_count": 10,
   "id": "68959b1d-9eb7-4d31-aa45-7a1e6fbdef69",
   "metadata": {},
   "outputs": [],
   "source": [
    "spark = SparkSession.builder.getOrCreate()"
   ]
  },
  {
   "cell_type": "code",
   "execution_count": 11,
   "id": "b080546f-3097-4bb6-afb5-ef9b238d9199",
   "metadata": {},
   "outputs": [],
   "source": [
    "df_titles = spark.read.csv('title_basics.tsv',header=True,sep='\\t')\n",
    "df_ratings = spark.read.csv('title_ratings.tsv',header=True,sep='\\t')"
   ]
  },
  {
   "cell_type": "code",
   "execution_count": 15,
   "id": "ca2ca854-647c-4ed5-990c-9ad2edcb08c9",
   "metadata": {},
   "outputs": [
    {
     "data": {
      "text/plain": [
       "['tconst',\n",
       " 'titleType',\n",
       " 'primaryTitle',\n",
       " 'originalTitle',\n",
       " 'isAdult',\n",
       " 'startYear',\n",
       " 'endYear',\n",
       " 'runtimeMinutes',\n",
       " 'genres']"
      ]
     },
     "execution_count": 15,
     "metadata": {},
     "output_type": "execute_result"
    }
   ],
   "source": [
    "df_titles.columns"
   ]
  },
  {
   "cell_type": "code",
   "execution_count": 14,
   "id": "befabf81-94bc-4859-a83f-785bb9357663",
   "metadata": {},
   "outputs": [
    {
     "data": {
      "text/plain": [
       "8203690"
      ]
     },
     "execution_count": 14,
     "metadata": {},
     "output_type": "execute_result"
    }
   ],
   "source": []
  },
  {
   "cell_type": "code",
   "execution_count": 17,
   "id": "524bbe38-ec4b-4cd7-a03e-dd0a6b9c446d",
   "metadata": {},
   "outputs": [],
   "source": [
    "df_titles.select('originalTitle','genres').write.parquet('titles.parquet')"
   ]
  },
  {
   "cell_type": "code",
   "execution_count": 18,
   "id": "c42ff4d6-a35b-428a-a7a4-306b39e23a8a",
   "metadata": {},
   "outputs": [],
   "source": [
    "teste =spark.read.parquet('titles.parquet')"
   ]
  },
  {
   "cell_type": "code",
   "execution_count": 19,
   "id": "005823fd-ceb1-43ba-a7db-e9952780be1d",
   "metadata": {},
   "outputs": [
    {
     "name": "stdout",
     "output_type": "stream",
     "text": [
      "+--------------------+--------------------+\n",
      "|       originalTitle|              genres|\n",
      "+--------------------+--------------------+\n",
      "|          Carmencita|   Documentary,Short|\n",
      "|Le clown et ses c...|     Animation,Short|\n",
      "|      Pauvre Pierrot|Animation,Comedy,...|\n",
      "|         Un bon bock|     Animation,Short|\n",
      "|    Blacksmith Scene|        Comedy,Short|\n",
      "|   Chinese Opium Den|               Short|\n",
      "|Corbett and Court...|         Short,Sport|\n",
      "|Edison Kinetoscop...|   Documentary,Short|\n",
      "|          Miss Jerry|       Romance,Short|\n",
      "|La sortie de l'us...|   Documentary,Short|\n",
      "|Akrobatisches Pot...|   Documentary,Short|\n",
      "|L'arrivée d'un tr...|   Documentary,Short|\n",
      "|Le débarquement d...|   Documentary,Short|\n",
      "|   L'arroseur arrosé|        Comedy,Short|\n",
      "| Autour d'une cabine|     Animation,Short|\n",
      "|Barque sortant du...|   Documentary,Short|\n",
      "|Italienischer Bau...|   Documentary,Short|\n",
      "|Das boxende Känguruh|               Short|\n",
      "|    The Clown Barber|        Comedy,Short|\n",
      "|      The Derby 1895|Documentary,Short...|\n",
      "+--------------------+--------------------+\n",
      "only showing top 20 rows\n",
      "\n"
     ]
    }
   ],
   "source": []
  },
  {
   "cell_type": "code",
   "execution_count": null,
   "id": "820250db-7773-41d0-8027-fd43721cf3c2",
   "metadata": {},
   "outputs": [],
   "source": []
  }
 ],
 "metadata": {
  "kernelspec": {
   "display_name": "Python 3",
   "language": "python",
   "name": "python3"
  },
  "language_info": {
   "codemirror_mode": {
    "name": "ipython",
    "version": 3
   },
   "file_extension": ".py",
   "mimetype": "text/x-python",
   "name": "python",
   "nbconvert_exporter": "python",
   "pygments_lexer": "ipython3",
   "version": "3.9.4"
  }
 },
 "nbformat": 4,
 "nbformat_minor": 5
}
