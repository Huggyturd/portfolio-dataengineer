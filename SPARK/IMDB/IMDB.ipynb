{
 "cells": [
  {
   "cell_type": "markdown",
   "id": "fc8b52a1-2eac-442f-ba2b-60728283979d",
   "metadata": {},
   "source": [
    "Bibliotecas"
   ]
  },
  {
   "cell_type": "code",
   "execution_count": 19,
   "id": "769e2040-3d94-49db-9047-65368a1cf000",
   "metadata": {},
   "outputs": [],
   "source": [
    "from pyspark.sql import SparkSession\n",
    "from pyspark.sql.functions import col"
   ]
  },
  {
   "cell_type": "code",
   "execution_count": 20,
   "id": "68959b1d-9eb7-4d31-aa45-7a1e6fbdef69",
   "metadata": {},
   "outputs": [],
   "source": [
    "spark = SparkSession.builder.getOrCreate()"
   ]
  },
  {
   "cell_type": "code",
   "execution_count": 21,
   "id": "b080546f-3097-4bb6-afb5-ef9b238d9199",
   "metadata": {},
   "outputs": [],
   "source": [
    "df_titles = spark.read.csv('title_basics.tsv',header=True,sep='\\t')\n",
    "df_ratings = spark.read.csv('title_ratings.tsv',header=True,sep='\\t')"
   ]
  },
  {
   "cell_type": "code",
   "execution_count": 22,
   "id": "ca2ca854-647c-4ed5-990c-9ad2edcb08c9",
   "metadata": {},
   "outputs": [
    {
     "data": {
      "text/plain": [
       "['tconst',\n",
       " 'titleType',\n",
       " 'primaryTitle',\n",
       " 'originalTitle',\n",
       " 'isAdult',\n",
       " 'startYear',\n",
       " 'endYear',\n",
       " 'runtimeMinutes',\n",
       " 'genres']"
      ]
     },
     "execution_count": 22,
     "metadata": {},
     "output_type": "execute_result"
    }
   ],
   "source": [
    "df_titles.columns"
   ]
  },
  {
   "cell_type": "code",
   "execution_count": 23,
   "id": "c42ff4d6-a35b-428a-a7a4-306b39e23a8a",
   "metadata": {},
   "outputs": [],
   "source": [
    "df_parquet = spark.read.parquet('titles.parquet')"
   ]
  },
  {
   "cell_type": "code",
   "execution_count": 24,
   "id": "005823fd-ceb1-43ba-a7db-e9952780be1d",
   "metadata": {},
   "outputs": [
    {
     "name": "stdout",
     "output_type": "stream",
     "text": [
      "+--------------------+--------------------+\n",
      "|       originalTitle|              genres|\n",
      "+--------------------+--------------------+\n",
      "|          Carmencita|   Documentary,Short|\n",
      "|Le clown et ses c...|     Animation,Short|\n",
      "|      Pauvre Pierrot|Animation,Comedy,...|\n",
      "|         Un bon bock|     Animation,Short|\n",
      "|    Blacksmith Scene|        Comedy,Short|\n",
      "|   Chinese Opium Den|               Short|\n",
      "|Corbett and Court...|         Short,Sport|\n",
      "|Edison Kinetoscop...|   Documentary,Short|\n",
      "|          Miss Jerry|       Romance,Short|\n",
      "|La sortie de l'us...|   Documentary,Short|\n",
      "|Akrobatisches Pot...|   Documentary,Short|\n",
      "|L'arrivée d'un tr...|   Documentary,Short|\n",
      "|Le débarquement d...|   Documentary,Short|\n",
      "|   L'arroseur arrosé|        Comedy,Short|\n",
      "| Autour d'une cabine|     Animation,Short|\n",
      "|Barque sortant du...|   Documentary,Short|\n",
      "|Italienischer Bau...|   Documentary,Short|\n",
      "|Das boxende Känguruh|               Short|\n",
      "|    The Clown Barber|        Comedy,Short|\n",
      "|      The Derby 1895|Documentary,Short...|\n",
      "+--------------------+--------------------+\n",
      "only showing top 20 rows\n",
      "\n"
     ]
    }
   ],
   "source": [
    "df_parquet.show()"
   ]
  },
  {
   "cell_type": "code",
   "execution_count": 25,
   "id": "820250db-7773-41d0-8027-fd43721cf3c2",
   "metadata": {},
   "outputs": [
    {
     "data": {
      "text/plain": [
       "DataFrame[originalTitle: string, genres: string]"
      ]
     },
     "execution_count": 25,
     "metadata": {},
     "output_type": "execute_result"
    }
   ],
   "source": [
    "df_titles.filter(df_titles.genres.contains('Mystery')).select(['originalTitle','genres'])"
   ]
  },
  {
   "cell_type": "code",
   "execution_count": 26,
   "id": "c095d93b-c9bf-4ccf-b157-95aab0b34020",
   "metadata": {},
   "outputs": [],
   "source": [
    "df_join_imdb = df_titles.join(df_ratings, ['tconst'])"
   ]
  },
  {
   "cell_type": "code",
   "execution_count": 27,
   "id": "29d9f95d-c4ec-4136-936e-5bc8987f1ed4",
   "metadata": {},
   "outputs": [
    {
     "name": "stdout",
     "output_type": "stream",
     "text": [
      "+---------+---------+--------------------+--------------------+-------+---------+-------+--------------+-----------------+-------------+--------+\n",
      "|   tconst|titleType|        primaryTitle|       originalTitle|isAdult|startYear|endYear|runtimeMinutes|           genres|averageRating|numVotes|\n",
      "+---------+---------+--------------------+--------------------+-------+---------+-------+--------------+-----------------+-------------+--------+\n",
      "|tt0000658|    short|The Puppet's Nigh...|Le cauchemar de F...|      0|     1908|     \\N|             2|  Animation,Short|          6.5|     212|\n",
      "|tt0001732|    short|The Lighthouse Ke...|The Lighthouse Ke...|      0|     1911|     \\N|            \\N|      Drama,Short|          7.1|      15|\n",
      "|tt0002253|    short|          Home Folks|          Home Folks|      0|     1912|     \\N|            17|      Drama,Short|          4.0|      13|\n",
      "|tt0002473|    short|    The Sands of Dee|    The Sands of Dee|      0|     1912|     \\N|            17|    Romance,Short|          6.5|      77|\n",
      "|tt0002588|    movie|Zigomar contre Ni...|Zigomar contre Ni...|      0|     1912|     \\N|            48|   Crime,Thriller|          6.0|      32|\n",
      "|tt0004091|    short|His Favorite Pastime|His Favorite Pastime|      0|     1914|     \\N|            16|     Comedy,Short|          5.1|    1067|\n",
      "|tt0004272|    movie|Lucille Love: The...|Lucille Love: The...|      0|     1914|     \\N|           300|           Action|          6.7|      24|\n",
      "|tt0004336|    movie|The Million Dolla...|The Million Dolla...|      0|     1914|     \\N|            \\N|Adventure,Mystery|          6.2|      37|\n",
      "|tt0005209|    movie|         Don Quixote|         Don Quixote|      0|     1915|     \\N|            50|            Drama|          5.6|      43|\n",
      "|tt0005793|    movie| Mysteries of London| Mysteries of London|      0|     1915|     \\N|            \\N|      Crime,Drama|          6.1|      10|\n",
      "+---------+---------+--------------------+--------------------+-------+---------+-------+--------------+-----------------+-------------+--------+\n",
      "only showing top 10 rows\n",
      "\n"
     ]
    }
   ],
   "source": [
    "df_join_imdb.show(10)"
   ]
  },
  {
   "cell_type": "code",
   "execution_count": null,
   "id": "645931c7-8f2e-418d-b393-af59b581c4f7",
   "metadata": {},
   "outputs": [],
   "source": [
    "# Filtro para pegar todos os filmes do Star Wars que foram lançados depois dos anos 2000"
   ]
  },
  {
   "cell_type": "code",
   "execution_count": null,
   "id": "43407372-ad93-401f-a446-057030e86441",
   "metadata": {},
   "outputs": [],
   "source": [
    "df_join_imdb.where(df_join_imdb.originalTitle.contains('Star Wars')).where('startYear > 2000').show()"
   ]
  },
  {
   "cell_type": "code",
   "execution_count": 56,
   "id": "86af781b-b9e3-428c-8e66-eff544119c85",
   "metadata": {},
   "outputs": [],
   "source": [
    "# Filtro para pegar todos os filmes acima do rank 8 do imdb"
   ]
  },
  {
   "cell_type": "code",
   "execution_count": 70,
   "id": "47be9a72-0ce6-4954-a98b-01c9029d042c",
   "metadata": {},
   "outputs": [],
   "source": [
    "(\n",
    "    df_join_imdb\n",
    "        .where('averageRating > 8')\n",
    "        .write\n",
    "        .mode('overwrite')\n",
    "        .parquet('filmes_avaliacao_maior_que_8',)\n",
    ")"
   ]
  },
  {
   "cell_type": "code",
   "execution_count": 73,
   "id": "074f0b87-f1c2-449f-bb0d-a5d65d649eb2",
   "metadata": {},
   "outputs": [],
   "source": [
    "df_maior_que_8 = spark.read.parquet('filmes_avaliacao_maior_que_8/')"
   ]
  },
  {
   "cell_type": "code",
   "execution_count": 74,
   "id": "ca315f82-8659-47cb-9f84-f8f863697d01",
   "metadata": {},
   "outputs": [
    {
     "name": "stdout",
     "output_type": "stream",
     "text": [
      "+---------+---------+--------------------+--------------------+-------+---------+-------+--------------+--------------------+-------------+--------+\n",
      "|   tconst|titleType|        primaryTitle|       originalTitle|isAdult|startYear|endYear|runtimeMinutes|              genres|averageRating|numVotes|\n",
      "+---------+---------+--------------------+--------------------+-------+---------+-------+--------------+--------------------+-------------+--------+\n",
      "|tt0060679|    movie|      Matira Manisha|      Matira Manisha|      0|     1966|     \\N|           113|               Drama|          9.0|      25|\n",
      "|tt0301052|    video|The Fantastic Voyage|     Boob Cruise '98|      1|     1998|     \\N|            90|                  \\N|         10.0|      14|\n",
      "|tt0319762|    movie|   Looking Your Best|   Looking Your Best|      0|     1989|     \\N|            71|                  \\N|          9.4|       9|\n",
      "|tt0326019|    short| Nothing's Permanent|         Prolazi sve|      0|     1994|     \\N|             5|               Short|          9.2|      15|\n",
      "|tt0330921|    video|      Spaljeno sunce|      Spaljeno sunce|      0|     2001|     \\N|            50|         Documentary|          9.8|      11|\n",
      "|tt0343987|tvSpecial|Live from Studio ...|Live from Studio ...|      0|     1981|     \\N|           120|               Music|          9.0|      10|\n",
      "|tt0352694|  tvMovie|Das Paradies von ...|Das Paradies von ...|      0|     1961|     \\N|            85|               Drama|          9.4|      11|\n",
      "|tt0374953|    video|Peter, Paul and M...|Peter, Paul and M...|      0|     1991|     \\N|            58|   Documentary,Music|          9.0|      13|\n",
      "|tt0395324|tvEpisode|     Rosie O'Donnell|     Rosie O'Donnell|      0|     2003|     \\N|            \\N|Biography,Documen...|          9.1|     156|\n",
      "|tt0416826|  tvMovie|      Hulla di Bulla|      Hulla di Bulla|      0|     1967|     \\N|            95|              Comedy|          9.3|      23|\n",
      "|tt0461649|  tvMovie|CMT Total Access:...|CMT Total Access:...|      0|     2004|     \\N|            44|         Documentary|          9.1|      11|\n",
      "|tt0472558|  tvMovie|Sam Phillips: The...|Sam Phillips: The...|      0|     2000|     \\N|            90|         Documentary|          9.1|      26|\n",
      "|tt0491824| tvSeries|Horse Power: Road...|Horse Power: Road...|      0|     2006|     \\N|            \\N|                  \\N|          9.2|      18|\n",
      "|tt0501926|tvEpisode|Stranger in the N...|Stranger in the N...|      0|     1956|     \\N|            60|               Drama|          9.5|      23|\n",
      "|tt0509548|tvEpisode|   Maternal Instinct|   Maternal Instinct|      0|     2005|     \\N|            42|               Drama|          9.0|       7|\n",
      "|tt0523100|tvEpisode|Humbug Not to Be ...|Humbug Not to Be ...|      0|     1967|     \\N|            30|Comedy,Family,Fan...|          9.0|     235|\n",
      "|tt0536670|tvEpisode|Michele Lee and J...|Michele Lee and J...|      0|     1974|     \\N|            60|       Comedy,Family|          9.2|      18|\n",
      "|tt0541976|tvEpisode|    The Grace of God|    The Grace of God|      0|     1999|     \\N|            \\N|         Crime,Drama|         10.0|      12|\n",
      "|tt0543314|tvEpisode|           Road Trip|           Road Trip|      0|     2005|     \\N|            \\N|  Drama,Family,Sport|          9.0|      29|\n",
      "|tt0574019|tvEpisode|     One Night Stand|     One Night Stand|      0|     1986|     \\N|            30|        Comedy,Drama|          9.0|      75|\n",
      "+---------+---------+--------------------+--------------------+-------+---------+-------+--------------+--------------------+-------------+--------+\n",
      "only showing top 20 rows\n",
      "\n"
     ]
    }
   ],
   "source": [
    "df_maior_que_8.show()"
   ]
  },
  {
   "cell_type": "code",
   "execution_count": null,
   "id": "f7fe720d-28d8-4aa6-827d-a98e93728a8d",
   "metadata": {},
   "outputs": [],
   "source": []
  }
 ],
 "metadata": {
  "kernelspec": {
   "display_name": "Python 3",
   "language": "python",
   "name": "python3"
  },
  "language_info": {
   "codemirror_mode": {
    "name": "ipython",
    "version": 3
   },
   "file_extension": ".py",
   "mimetype": "text/x-python",
   "name": "python",
   "nbconvert_exporter": "python",
   "pygments_lexer": "ipython3",
   "version": "3.9.4"
  }
 },
 "nbformat": 4,
 "nbformat_minor": 5
}
