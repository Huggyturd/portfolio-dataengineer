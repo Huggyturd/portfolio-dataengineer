{
 "cells": [
  {
   "cell_type": "code",
   "execution_count": 2,
   "id": "3bbd7ec7-e0dc-4b0c-825e-9424c5a4ff30",
   "metadata": {},
   "outputs": [],
   "source": [
    "# Limpeza padrão de Strings"
   ]
  },
  {
   "cell_type": "code",
   "execution_count": 3,
   "id": "ee4d49e4-98d1-45ce-ad21-47d639057d14",
   "metadata": {},
   "outputs": [],
   "source": [
    "from pyspark.sql import SparkSession\n",
    "from pyspark.sql.functions import col, initcap, regexp_replace, trim, udf"
   ]
  },
  {
   "cell_type": "code",
   "execution_count": 4,
   "id": "97c254a3-2cde-4b1a-b620-75074cd22fdf",
   "metadata": {},
   "outputs": [],
   "source": [
    "spark = SparkSession.builder.getOrCreate()"
   ]
  },
  {
   "cell_type": "code",
   "execution_count": 5,
   "id": "1d58d805-c94f-4d8b-b10f-c587e231c35e",
   "metadata": {},
   "outputs": [],
   "source": [
    "df = spark.createDataFrame([['pedro','Açaí     com banana'],['JOÃO','AcaRAJé'],], \n",
    "                           schema = 'nome STRING, comida STRING')"
   ]
  },
  {
   "cell_type": "code",
   "execution_count": 7,
   "id": "b953f784-8fa5-4b8e-9d1c-4c6d882d6b61",
   "metadata": {},
   "outputs": [
    {
     "name": "stdout",
     "output_type": "stream",
     "text": [
      "+-----+-------------------+\n",
      "| nome|             comida|\n",
      "+-----+-------------------+\n",
      "|pedro|Açaí     com banana|\n",
      "| JOÃO|            AcaRAJé|\n",
      "+-----+-------------------+\n",
      "\n"
     ]
    }
   ],
   "source": [
    "df.show()"
   ]
  },
  {
   "cell_type": "code",
   "execution_count": 8,
   "id": "52813602-a6d7-4ceb-9bad-46b5ece0f622",
   "metadata": {},
   "outputs": [],
   "source": [
    "# Cria um udf para retirar acentos e caracteres especiais"
   ]
  },
  {
   "cell_type": "code",
   "execution_count": 10,
   "id": "82631913-6bb9-4e0f-ac85-53d4b37fcf72",
   "metadata": {},
   "outputs": [
    {
     "ename": "ModuleNotFoundError",
     "evalue": "No module named 'unicode'",
     "output_type": "error",
     "traceback": [
      "\u001b[0;31m---------------------------------------------------------------------------\u001b[0m",
      "\u001b[0;31mModuleNotFoundError\u001b[0m                       Traceback (most recent call last)",
      "\u001b[0;32m<ipython-input-10-15293d0741a3>\u001b[0m in \u001b[0;36m<module>\u001b[0;34m\u001b[0m\n\u001b[0;32m----> 1\u001b[0;31m \u001b[0;32mimport\u001b[0m \u001b[0municode\u001b[0m\u001b[0;34m\u001b[0m\u001b[0;34m\u001b[0m\u001b[0m\n\u001b[0m",
      "\u001b[0;31mModuleNotFoundError\u001b[0m: No module named 'unicode'"
     ]
    }
   ],
   "source": [
    "import unicode"
   ]
  },
  {
   "cell_type": "code",
   "execution_count": null,
   "id": "35a7499e-fda3-4f8e-808a-3037a62b64b5",
   "metadata": {},
   "outputs": [],
   "source": []
  }
 ],
 "metadata": {
  "kernelspec": {
   "display_name": "Python 3",
   "language": "python",
   "name": "python3"
  },
  "language_info": {
   "codemirror_mode": {
    "name": "ipython",
    "version": 3
   },
   "file_extension": ".py",
   "mimetype": "text/x-python",
   "name": "python",
   "nbconvert_exporter": "python",
   "pygments_lexer": "ipython3",
   "version": "3.9.4"
  }
 },
 "nbformat": 4,
 "nbformat_minor": 5
}
