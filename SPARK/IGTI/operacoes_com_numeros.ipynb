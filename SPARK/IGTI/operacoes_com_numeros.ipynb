{
 "cells": [
  {
   "cell_type": "code",
   "execution_count": 1,
   "id": "a22eb4cd-4452-4721-93ae-15de4f2ed18f",
   "metadata": {},
   "outputs": [],
   "source": [
    "# Operações com números"
   ]
  },
  {
   "cell_type": "code",
   "execution_count": 2,
   "id": "1a37f052-9865-46b4-b0f0-29be4fab4eca",
   "metadata": {},
   "outputs": [],
   "source": [
    "from pyspark.sql import SparkSession"
   ]
  },
  {
   "cell_type": "code",
   "execution_count": 10,
   "id": "77f42edf-7c61-4d4d-bf25-b197f2103ead",
   "metadata": {},
   "outputs": [],
   "source": [
    "from pyspark.sql.functions import *"
   ]
  },
  {
   "cell_type": "code",
   "execution_count": 4,
   "id": "fb2e581e-bffd-4ef5-9f6e-260063b927b5",
   "metadata": {},
   "outputs": [],
   "source": [
    "spark = SparkSession.builder.getOrCreate()"
   ]
  },
  {
   "cell_type": "code",
   "execution_count": 5,
   "id": "83dafd2d-9c66-4960-a75f-908ffc4bfa9d",
   "metadata": {},
   "outputs": [],
   "source": [
    "df = spark.read.parquet('df_notas/')"
   ]
  },
  {
   "cell_type": "code",
   "execution_count": 6,
   "id": "8ff0eced-4aa5-485c-896e-125ba7e8e0fc",
   "metadata": {},
   "outputs": [
    {
     "name": "stdout",
     "output_type": "stream",
     "text": [
      "+------+----+\n",
      "|  nome|nota|\n",
      "+------+----+\n",
      "|Mateus|   8|\n",
      "| Pedro|   7|\n",
      "|  João|   5|\n",
      "+------+----+\n",
      "\n"
     ]
    }
   ],
   "source": [
    "df.show()"
   ]
  },
  {
   "cell_type": "code",
   "execution_count": 8,
   "id": "ba5aadeb-be74-4ddd-b413-ff459a72978b",
   "metadata": {},
   "outputs": [
    {
     "name": "stdout",
     "output_type": "stream",
     "text": [
      "+------+----+------------------+----------+\n",
      "|  nome|nota|          log_nota|maior_nota|\n",
      "+------+----+------------------+----------+\n",
      "|Mateus|   8|2.0794415416798357|       8.0|\n",
      "| Pedro|   7|1.9459101490553132|       7.0|\n",
      "|  João|   5|1.6094379124341003|       5.0|\n",
      "+------+----+------------------+----------+\n",
      "\n"
     ]
    }
   ],
   "source": [
    "(\n",
    "    df.withColumn('log_nota', log('nota'))\n",
    "    .withColumn('maior_nota', greatest('nota', 'log_nota'))\n",
    "    .show()\n",
    ")"
   ]
  },
  {
   "cell_type": "code",
   "execution_count": 25,
   "id": "cadd515a-c45e-4915-906a-2ca7abb58c9d",
   "metadata": {},
   "outputs": [
    {
     "name": "stdout",
     "output_type": "stream",
     "text": [
      "+------+----+---------------------------+-------------------+-------------------+-----+----+-----+------------------+------------------+------------------+------------------+------+--------+-----+\n",
      "|  nome|nota|monotonically_increasing_id|               rand|              randn|round|ceil|floor|              sqrt|               exp|               log|             log10|   pow|greatest|least|\n",
      "+------+----+---------------------------+-------------------+-------------------+-----+----+-----+------------------+------------------+------------------+------------------+------+--------+-----+\n",
      "|Mateus|   8|                          0|0.17504306324808194|-0.8844201498803448|  0.0| 0.0|  0.0|2.8284271247461903|2980.9579870417283|2.0794415416798357|0.9030899869919435|4096.0|  4096.0|  8.0|\n",
      "| Pedro|   7|                 8589934592|  0.972297553069175|-0.8876914432462563|  1.0| 1.0|  1.0|2.6457513110645907|1096.6331584284585|1.9459101490553132|0.8450980400142568|2401.0|  2401.0|  7.0|\n",
      "|  João|   5|                17179869184| 0.7799808369025678| 1.0281602935686722|  1.0| 1.0|  1.0|  2.23606797749979| 148.4131591025766|1.6094379124341003|0.6989700043360189| 625.0|   625.0|  5.0|\n",
      "+------+----+---------------------------+-------------------+-------------------+-----+----+-----+------------------+------------------+------------------+------------------+------+--------+-----+\n",
      "\n"
     ]
    }
   ],
   "source": [
    "(\n",
    "    df.withColumn('monotonically_increasing_id',monotonically_increasing_id())\n",
    "    .withColumn('rand',rand())\n",
    "    .withColumn('randn',randn())\n",
    "    .withColumn('round', round('rand'))\n",
    "    .withColumn('ceil', round('rand'))\n",
    "    .withColumn('floor', round('rand'))\n",
    "    .withColumn('sqrt',sqrt('nota'))\n",
    "    .withColumn('exp',exp('nota'))\n",
    "    .withColumn('log',log('nota'))\n",
    "    .withColumn('log10',log10('nota'))\n",
    "    .withColumn('pow',pow('nota',4))\n",
    "    .withColumn('greatest',greatest('pow','nota'))\n",
    "    .withColumn('least',least('pow','nota'))\n",
    "    .show()\n",
    ")"
   ]
  },
  {
   "cell_type": "code",
   "execution_count": null,
   "id": "e65fbd80-778a-44b8-927c-796d760cfac2",
   "metadata": {},
   "outputs": [],
   "source": []
  }
 ],
 "metadata": {
  "kernelspec": {
   "display_name": "Python 3",
   "language": "python",
   "name": "python3"
  },
  "language_info": {
   "codemirror_mode": {
    "name": "ipython",
    "version": 3
   },
   "file_extension": ".py",
   "mimetype": "text/x-python",
   "name": "python",
   "nbconvert_exporter": "python",
   "pygments_lexer": "ipython3",
   "version": "3.9.4"
  }
 },
 "nbformat": 4,
 "nbformat_minor": 5
}
