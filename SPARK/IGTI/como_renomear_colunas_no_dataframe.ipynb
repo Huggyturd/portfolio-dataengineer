{
 "cells": [
  {
   "cell_type": "code",
   "execution_count": 1,
   "id": "78290746-d16f-477e-886c-28c5e336f0b6",
   "metadata": {},
   "outputs": [],
   "source": [
    "# Como renomear colunas no dataframe"
   ]
  },
  {
   "cell_type": "code",
   "execution_count": 2,
   "id": "aad15404-2eb7-4e0d-a344-07fd298c6ce0",
   "metadata": {},
   "outputs": [],
   "source": [
    "from pyspark.sql import SparkSession"
   ]
  },
  {
   "cell_type": "code",
   "execution_count": 7,
   "id": "ce31a6d4-934a-4cf7-8135-1a0ec31f4eaa",
   "metadata": {},
   "outputs": [],
   "source": [
    "from pyspark.sql.functions import col"
   ]
  },
  {
   "cell_type": "code",
   "execution_count": 3,
   "id": "00211fa0-ded8-425d-8110-d4b3ddca0719",
   "metadata": {},
   "outputs": [],
   "source": [
    "spark = SparkSession.builder.getOrCreate()"
   ]
  },
  {
   "cell_type": "code",
   "execution_count": 4,
   "id": "6a0d4457-eb13-4626-a0e2-e159464389db",
   "metadata": {},
   "outputs": [],
   "source": [
    "df = spark.read.parquet('df_notas/')"
   ]
  },
  {
   "cell_type": "code",
   "execution_count": 5,
   "id": "f4db2270-c377-4d61-a739-1c0ac1d4607a",
   "metadata": {},
   "outputs": [
    {
     "name": "stdout",
     "output_type": "stream",
     "text": [
      "+------+----+\n",
      "|  nome|nota|\n",
      "+------+----+\n",
      "|Mateus|   8|\n",
      "| Pedro|   7|\n",
      "|  João|   5|\n",
      "+------+----+\n",
      "\n"
     ]
    }
   ],
   "source": [
    "df.show()"
   ]
  },
  {
   "cell_type": "code",
   "execution_count": 11,
   "id": "580f45d2-b8cc-4426-9c1f-247dab3827d6",
   "metadata": {},
   "outputs": [
    {
     "name": "stdout",
     "output_type": "stream",
     "text": [
      "+------+-------------+\n",
      "|  nome|nota_do_aluno|\n",
      "+------+-------------+\n",
      "|Mateus|            8|\n",
      "| Pedro|            7|\n",
      "|  João|            5|\n",
      "+------+-------------+\n",
      "\n"
     ]
    }
   ],
   "source": [
    "df.withColumnRenamed('nota','nota_do_aluno').show()"
   ]
  },
  {
   "cell_type": "code",
   "execution_count": 10,
   "id": "ad98c2d4-dacd-44e5-b32c-4cf2ba307828",
   "metadata": {},
   "outputs": [
    {
     "name": "stdout",
     "output_type": "stream",
     "text": [
      "+------+----+\n",
      "|  nome|nota|\n",
      "+------+----+\n",
      "|Mateus|   8|\n",
      "| Pedro|   7|\n",
      "|  João|   5|\n",
      "+------+----+\n",
      "\n"
     ]
    }
   ],
   "source": []
  },
  {
   "cell_type": "code",
   "execution_count": null,
   "id": "eff6f101-aae0-4075-b227-5229255d39b7",
   "metadata": {},
   "outputs": [],
   "source": []
  }
 ],
 "metadata": {
  "kernelspec": {
   "display_name": "Python 3",
   "language": "python",
   "name": "python3"
  },
  "language_info": {
   "codemirror_mode": {
    "name": "ipython",
    "version": 3
   },
   "file_extension": ".py",
   "mimetype": "text/x-python",
   "name": "python",
   "nbconvert_exporter": "python",
   "pygments_lexer": "ipython3",
   "version": "3.9.4"
  }
 },
 "nbformat": 4,
 "nbformat_minor": 5
}
