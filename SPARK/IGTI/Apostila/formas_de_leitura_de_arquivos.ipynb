{
 "cells": [
  {
   "cell_type": "code",
   "execution_count": 1,
   "id": "eb55cc02-65f4-4622-841e-ea12c63141ab",
   "metadata": {},
   "outputs": [],
   "source": [
    "# Formas de leitura de arquivos"
   ]
  },
  {
   "cell_type": "code",
   "execution_count": 2,
   "id": "0606ff93-d116-42c1-adaa-99146d113cad",
   "metadata": {},
   "outputs": [],
   "source": [
    "from pyspark.sql import SparkSession"
   ]
  },
  {
   "cell_type": "code",
   "execution_count": 3,
   "id": "48007bd6-b8b4-4a82-b159-c326052ecd04",
   "metadata": {},
   "outputs": [],
   "source": [
    "spark = SparkSession.builder.getOrCreate()"
   ]
  },
  {
   "cell_type": "code",
   "execution_count": null,
   "id": "e8818da8-0d7a-4979-b907-583f68a28f3a",
   "metadata": {},
   "outputs": [],
   "source": [
    "# Existem duas formas de se ler um arquivo, sendo a segundo a mais preferêncial"
   ]
  },
  {
   "cell_type": "code",
   "execution_count": null,
   "id": "dcb08db2-0d43-4be3-84bc-968f4f5e90af",
   "metadata": {},
   "outputs": [],
   "source": [
    "spark.read.parquet('path/to/file', schema=args, key=value)"
   ]
  },
  {
   "cell_type": "code",
   "execution_count": null,
   "id": "92b882b5-3f20-41ca-b3f1-627c602a67c8",
   "metadata": {},
   "outputs": [],
   "source": [
    "spark.read.format('parquet').option('key','value').schema(args).load('path/to/file')"
   ]
  }
 ],
 "metadata": {
  "kernelspec": {
   "display_name": "Python 3",
   "language": "python",
   "name": "python3"
  },
  "language_info": {
   "codemirror_mode": {
    "name": "ipython",
    "version": 3
   },
   "file_extension": ".py",
   "mimetype": "text/x-python",
   "name": "python",
   "nbconvert_exporter": "python",
   "pygments_lexer": "ipython3",
   "version": "3.9.4"
  }
 },
 "nbformat": 4,
 "nbformat_minor": 5
}
