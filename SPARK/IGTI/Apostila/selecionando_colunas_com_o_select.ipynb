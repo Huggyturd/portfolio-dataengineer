{
 "cells": [
  {
   "cell_type": "code",
   "execution_count": 1,
   "id": "70390ec6-4f04-4e75-9600-3693e045e3f0",
   "metadata": {},
   "outputs": [],
   "source": [
    "# Selecionando colunas com o select"
   ]
  },
  {
   "cell_type": "code",
   "execution_count": 2,
   "id": "5d003810-c8a8-4c5e-8be1-510b187a38d9",
   "metadata": {},
   "outputs": [],
   "source": [
    "from pyspark.sql import SparkSession"
   ]
  },
  {
   "cell_type": "code",
   "execution_count": 3,
   "id": "b226f99b-b440-4f14-b184-340e110a7454",
   "metadata": {},
   "outputs": [],
   "source": [
    "spark = SparkSession.builder.getOrCreate()"
   ]
  },
  {
   "cell_type": "code",
   "execution_count": 6,
   "id": "578b6f0a-784b-42ae-912a-8fb5a7811b39",
   "metadata": {},
   "outputs": [],
   "source": [
    "df = spark.read.parquet('imdb_parquet/')"
   ]
  },
  {
   "cell_type": "code",
   "execution_count": 7,
   "id": "c08f8940-ec66-4a91-b8cc-5140ca8ce9c6",
   "metadata": {},
   "outputs": [
    {
     "name": "stdout",
     "output_type": "stream",
     "text": [
      "+--------------------+\n",
      "|       originalTitle|\n",
      "+--------------------+\n",
      "|      Matira Manisha|\n",
      "|     Boob Cruise '98|\n",
      "|   Looking Your Best|\n",
      "|         Prolazi sve|\n",
      "|      Spaljeno sunce|\n",
      "|Live from Studio ...|\n",
      "|Das Paradies von ...|\n",
      "|Peter, Paul and M...|\n",
      "|     Rosie O'Donnell|\n",
      "|      Hulla di Bulla|\n",
      "|CMT Total Access:...|\n",
      "|Sam Phillips: The...|\n",
      "|Horse Power: Road...|\n",
      "|Stranger in the N...|\n",
      "|   Maternal Instinct|\n",
      "|Humbug Not to Be ...|\n",
      "|Michele Lee and J...|\n",
      "|    The Grace of God|\n",
      "|           Road Trip|\n",
      "|     One Night Stand|\n",
      "+--------------------+\n",
      "only showing top 20 rows\n",
      "\n"
     ]
    }
   ],
   "source": [
    "df.select('originalTitle').show()"
   ]
  },
  {
   "cell_type": "code",
   "execution_count": null,
   "id": "ecce719b-3afd-4059-a1dc-9284056c96cd",
   "metadata": {},
   "outputs": [],
   "source": []
  }
 ],
 "metadata": {
  "kernelspec": {
   "display_name": "Python 3",
   "language": "python",
   "name": "python3"
  },
  "language_info": {
   "codemirror_mode": {
    "name": "ipython",
    "version": 3
   },
   "file_extension": ".py",
   "mimetype": "text/x-python",
   "name": "python",
   "nbconvert_exporter": "python",
   "pygments_lexer": "ipython3",
   "version": "3.9.4"
  }
 },
 "nbformat": 4,
 "nbformat_minor": 5
}
