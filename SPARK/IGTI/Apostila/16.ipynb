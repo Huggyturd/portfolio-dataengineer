{
 "cells": [
  {
   "cell_type": "code",
   "execution_count": 1,
   "id": "112e325a-e9f7-46bf-acde-45a6220bfa9e",
   "metadata": {},
   "outputs": [],
   "source": [
    "# Criando filtro multiplo no pyspark"
   ]
  },
  {
   "cell_type": "code",
   "execution_count": 3,
   "id": "8ea9edc8-85ef-4f2f-a70d-8a7890642457",
   "metadata": {},
   "outputs": [],
   "source": [
    "from pyspark.sql import SparkSession"
   ]
  },
  {
   "cell_type": "code",
   "execution_count": 17,
   "id": "fa12b602-3bab-45db-9fe5-31db02a88897",
   "metadata": {},
   "outputs": [],
   "source": [
    "from pyspark.sql.functions import col"
   ]
  },
  {
   "cell_type": "code",
   "execution_count": 4,
   "id": "8b8043d6-65e9-458a-85cd-c0de2ac1cb17",
   "metadata": {},
   "outputs": [],
   "source": [
    "spark = SparkSession.builder.getOrCreate()"
   ]
  },
  {
   "cell_type": "code",
   "execution_count": 8,
   "id": "e1a7ba5e-0383-4523-b597-8aafbc11020c",
   "metadata": {},
   "outputs": [],
   "source": [
    "data = [['Cleiton',23,10],['João',30,6],['Amanda',10,3]]"
   ]
  },
  {
   "cell_type": "code",
   "execution_count": 9,
   "id": "5ab19a83-8d01-4270-ad7d-11dc890a5bf9",
   "metadata": {},
   "outputs": [],
   "source": [
    "schema = 'nome STRING, idade INT, nota INT'"
   ]
  },
  {
   "cell_type": "code",
   "execution_count": 10,
   "id": "76f37957-6971-4950-b849-c2c61eead25a",
   "metadata": {},
   "outputs": [],
   "source": [
    "df = spark.createDataFrame(data=data,schema=schema)"
   ]
  },
  {
   "cell_type": "code",
   "execution_count": 12,
   "id": "f28a6b77-d350-471e-9420-cf51af04819e",
   "metadata": {},
   "outputs": [
    {
     "name": "stdout",
     "output_type": "stream",
     "text": [
      "+-------+-----+----+\n",
      "|   nome|idade|nota|\n",
      "+-------+-----+----+\n",
      "|Cleiton|   23|  10|\n",
      "|   João|   30|   6|\n",
      "| Amanda|   10|   3|\n",
      "+-------+-----+----+\n",
      "\n"
     ]
    }
   ],
   "source": [
    "df.show()"
   ]
  },
  {
   "cell_type": "code",
   "execution_count": null,
   "id": "ea82951d-f158-4f81-92b6-f0f7198637c3",
   "metadata": {},
   "outputs": [],
   "source": [
    "# Utilizando string"
   ]
  },
  {
   "cell_type": "code",
   "execution_count": 14,
   "id": "0d0da175-ae65-41c0-97ee-a757a5ec1d6f",
   "metadata": {},
   "outputs": [
    {
     "name": "stdout",
     "output_type": "stream",
     "text": [
      "+----+-----+----+\n",
      "|nome|idade|nota|\n",
      "+----+-----+----+\n",
      "|João|   30|   6|\n",
      "+----+-----+----+\n",
      "\n"
     ]
    }
   ],
   "source": [
    "df.filter('idade > 18 and nota < 7').show()"
   ]
  },
  {
   "cell_type": "code",
   "execution_count": null,
   "id": "f73ea848-266f-44bc-8696-174ee273034e",
   "metadata": {},
   "outputs": [],
   "source": [
    "# Utilizando colunas"
   ]
  },
  {
   "cell_type": "code",
   "execution_count": 19,
   "id": "5ec93525-bfe0-413a-bfa0-12c79e64228f",
   "metadata": {},
   "outputs": [
    {
     "name": "stdout",
     "output_type": "stream",
     "text": [
      "+----+-----+----+\n",
      "|nome|idade|nota|\n",
      "+----+-----+----+\n",
      "|João|   30|   6|\n",
      "+----+-----+----+\n",
      "\n"
     ]
    }
   ],
   "source": [
    "df.filter((col('idade') > 18) & (col('nota') < 7)).show()"
   ]
  },
  {
   "cell_type": "code",
   "execution_count": 20,
   "id": "bf584496-4a53-4554-bbe9-8d50d0b578bf",
   "metadata": {},
   "outputs": [],
   "source": [
    "# Método mais legível"
   ]
  },
  {
   "cell_type": "code",
   "execution_count": 21,
   "id": "05f9725b-604b-48e6-8742-27efa8b6036c",
   "metadata": {},
   "outputs": [
    {
     "name": "stdout",
     "output_type": "stream",
     "text": [
      "+----+-----+----+\n",
      "|nome|idade|nota|\n",
      "+----+-----+----+\n",
      "|João|   30|   6|\n",
      "+----+-----+----+\n",
      "\n"
     ]
    }
   ],
   "source": [
    "df.filter('idade > 18').filter('nota < 7').show()"
   ]
  },
  {
   "cell_type": "code",
   "execution_count": null,
   "id": "4ad76035-c49c-4b04-80ae-43ee69fff0e9",
   "metadata": {},
   "outputs": [],
   "source": []
  },
  {
   "cell_type": "code",
   "execution_count": null,
   "id": "b5344046-02d8-49eb-b4ca-c21cfae74cf0",
   "metadata": {},
   "outputs": [],
   "source": []
  }
 ],
 "metadata": {
  "kernelspec": {
   "display_name": "Python 3",
   "language": "python",
   "name": "python3"
  },
  "language_info": {
   "codemirror_mode": {
    "name": "ipython",
    "version": 3
   },
   "file_extension": ".py",
   "mimetype": "text/x-python",
   "name": "python",
   "nbconvert_exporter": "python",
   "pygments_lexer": "ipython3",
   "version": "3.9.4"
  }
 },
 "nbformat": 4,
 "nbformat_minor": 5
}
