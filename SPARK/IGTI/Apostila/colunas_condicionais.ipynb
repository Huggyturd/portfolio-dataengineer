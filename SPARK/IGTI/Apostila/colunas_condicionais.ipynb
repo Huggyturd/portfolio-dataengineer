{
 "cells": [
  {
   "cell_type": "code",
   "execution_count": 1,
   "id": "eb61d828-ea45-4606-96be-7080432385c8",
   "metadata": {},
   "outputs": [],
   "source": [
    "# Colunas condicionais"
   ]
  },
  {
   "cell_type": "code",
   "execution_count": 7,
   "id": "368cc248-a263-4258-a423-8db6102b8bd2",
   "metadata": {},
   "outputs": [],
   "source": [
    "from pyspark.sql import SparkSession\n",
    "from pyspark.sql.functions import when,col"
   ]
  },
  {
   "cell_type": "code",
   "execution_count": 3,
   "id": "3d83b19c-dfc3-4407-a61b-8d80a7ddc28b",
   "metadata": {},
   "outputs": [],
   "source": [
    "spark = SparkSession.builder.getOrCreate()"
   ]
  },
  {
   "cell_type": "code",
   "execution_count": 4,
   "id": "4554d897-a277-464b-bbab-da22beaff42a",
   "metadata": {},
   "outputs": [],
   "source": [
    "df = spark.read.parquet('df_notas/')"
   ]
  },
  {
   "cell_type": "code",
   "execution_count": 5,
   "id": "286888dd-7fc0-4495-aed2-5e311b078242",
   "metadata": {},
   "outputs": [
    {
     "name": "stdout",
     "output_type": "stream",
     "text": [
      "+------+----+\n",
      "|  nome|nota|\n",
      "+------+----+\n",
      "|Mateus|   8|\n",
      "| Pedro|   7|\n",
      "|  João|   5|\n",
      "+------+----+\n",
      "\n"
     ]
    }
   ],
   "source": [
    "df.show(5)"
   ]
  },
  {
   "cell_type": "code",
   "execution_count": 10,
   "id": "d2c62719-5a3b-419a-985a-d6a9db1ccc88",
   "metadata": {},
   "outputs": [
    {
     "name": "stdout",
     "output_type": "stream",
     "text": [
      "+------+----+-----------+\n",
      "|  nome|nota|  resultado|\n",
      "+------+----+-----------+\n",
      "|Mateus|   8|   aprovado|\n",
      "| Pedro|   7|   aprovado|\n",
      "|  João|   5|recuperação|\n",
      "+------+----+-----------+\n",
      "\n"
     ]
    }
   ],
   "source": [
    "(\n",
    "    df.withColumn('resultado', when(col('nota') > 6, 'aprovado')\n",
    "                          .when(col('nota').between(2,6), 'recuperação')\n",
    "                          .otherwise('reprovado'))\n",
    "    .show()\n",
    ")\n",
    " "
   ]
  },
  {
   "cell_type": "code",
   "execution_count": null,
   "id": "7baf9292-a2ac-4381-a9d9-0e632cb692ad",
   "metadata": {},
   "outputs": [],
   "source": []
  }
 ],
 "metadata": {
  "kernelspec": {
   "display_name": "Python 3",
   "language": "python",
   "name": "python3"
  },
  "language_info": {
   "codemirror_mode": {
    "name": "ipython",
    "version": 3
   },
   "file_extension": ".py",
   "mimetype": "text/x-python",
   "name": "python",
   "nbconvert_exporter": "python",
   "pygments_lexer": "ipython3",
   "version": "3.9.4"
  }
 },
 "nbformat": 4,
 "nbformat_minor": 5
}
