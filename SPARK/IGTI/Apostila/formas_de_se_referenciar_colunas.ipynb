{
 "cells": [
  {
   "cell_type": "code",
   "execution_count": 9,
   "id": "c1000c66-ef2a-4cb6-b74a-cc57eda5d831",
   "metadata": {},
   "outputs": [],
   "source": [
    "# Formas de se referenciar colunas"
   ]
  },
  {
   "cell_type": "code",
   "execution_count": 1,
   "id": "74756cea-6bc6-413f-ae6f-fa4681d4236c",
   "metadata": {},
   "outputs": [],
   "source": [
    "from pyspark.sql import SparkSession"
   ]
  },
  {
   "cell_type": "code",
   "execution_count": 7,
   "id": "b78bc1c4-2f04-4c34-a066-210b3c1dea56",
   "metadata": {},
   "outputs": [],
   "source": [
    "from pyspark.sql.functions import col"
   ]
  },
  {
   "cell_type": "code",
   "execution_count": 2,
   "id": "0b257f4a-c2b7-4108-acd7-4485af7fe427",
   "metadata": {},
   "outputs": [],
   "source": [
    "spark = SparkSession.builder.getOrCreate()"
   ]
  },
  {
   "cell_type": "code",
   "execution_count": 3,
   "id": "19f6dca0-c511-4da6-9211-366a9d99f89a",
   "metadata": {},
   "outputs": [],
   "source": [
    "data = [('Pedro',5),('Joana',5),('Larissa',5)]"
   ]
  },
  {
   "cell_type": "code",
   "execution_count": 4,
   "id": "88f2efee-50ec-4250-b557-faa2caa7f61e",
   "metadata": {},
   "outputs": [],
   "source": [
    "schema = 'nome STRING, nota INT'"
   ]
  },
  {
   "cell_type": "code",
   "execution_count": 5,
   "id": "0bcb762b-a1be-4b4a-9933-08af31fa02ec",
   "metadata": {},
   "outputs": [],
   "source": [
    "df = spark.createDataFrame(data=data,schema=schema)"
   ]
  },
  {
   "cell_type": "code",
   "execution_count": 6,
   "id": "814d1505-5392-432c-a83d-57c027a84483",
   "metadata": {},
   "outputs": [
    {
     "name": "stdout",
     "output_type": "stream",
     "text": [
      "+-------+----+\n",
      "|   nome|nota|\n",
      "+-------+----+\n",
      "|  Pedro|   5|\n",
      "|  Joana|   5|\n",
      "|Larissa|   5|\n",
      "+-------+----+\n",
      "\n"
     ]
    }
   ],
   "source": [
    "df.show()"
   ]
  },
  {
   "cell_type": "code",
   "execution_count": 8,
   "id": "8a2af045-7a58-4c7e-b121-a6716514755c",
   "metadata": {},
   "outputs": [
    {
     "name": "stdout",
     "output_type": "stream",
     "text": [
      "+-------+----+-----------+\n",
      "|   nome|nota|nota_plus_5|\n",
      "+-------+----+-----------+\n",
      "|  Pedro|   5|         10|\n",
      "|  Joana|   5|         10|\n",
      "|Larissa|   5|         10|\n",
      "+-------+----+-----------+\n",
      "\n"
     ]
    }
   ],
   "source": [
    "df.withColumn('nota_plus_5', col('nota') + 5).show()"
   ]
  },
  {
   "cell_type": "code",
   "execution_count": 10,
   "id": "e234248b-b544-4822-9a72-784eabdf4ef2",
   "metadata": {},
   "outputs": [
    {
     "data": {
      "text/plain": [
       "Column<'nota'>"
      ]
     },
     "execution_count": 10,
     "metadata": {},
     "output_type": "execute_result"
    }
   ],
   "source": [
    "col('nota')"
   ]
  },
  {
   "cell_type": "code",
   "execution_count": 12,
   "id": "ba35dd60-8707-4e60-aff7-ba1a50a1f0e7",
   "metadata": {},
   "outputs": [
    {
     "data": {
      "text/plain": [
       "Column<'nota'>"
      ]
     },
     "execution_count": 12,
     "metadata": {},
     "output_type": "execute_result"
    }
   ],
   "source": [
    "df['nota']"
   ]
  },
  {
   "cell_type": "code",
   "execution_count": 13,
   "id": "0794f6f8-c29b-4ba8-b606-0ed8de595346",
   "metadata": {},
   "outputs": [
    {
     "data": {
      "text/plain": [
       "Column<'nota'>"
      ]
     },
     "execution_count": 13,
     "metadata": {},
     "output_type": "execute_result"
    }
   ],
   "source": [
    "df.nota"
   ]
  },
  {
   "cell_type": "code",
   "execution_count": null,
   "id": "45d83839-ad05-4e46-b1a4-67346882508b",
   "metadata": {},
   "outputs": [],
   "source": []
  },
  {
   "cell_type": "code",
   "execution_count": null,
   "id": "1b3eff07-14f8-4ccf-ad68-76acb0a417eb",
   "metadata": {},
   "outputs": [],
   "source": []
  }
 ],
 "metadata": {
  "kernelspec": {
   "display_name": "Python 3",
   "language": "python",
   "name": "python3"
  },
  "language_info": {
   "codemirror_mode": {
    "name": "ipython",
    "version": 3
   },
   "file_extension": ".py",
   "mimetype": "text/x-python",
   "name": "python",
   "nbconvert_exporter": "python",
   "pygments_lexer": "ipython3",
   "version": "3.9.4"
  }
 },
 "nbformat": 4,
 "nbformat_minor": 5
}
