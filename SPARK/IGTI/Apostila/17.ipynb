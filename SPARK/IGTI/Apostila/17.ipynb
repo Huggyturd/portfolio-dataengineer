{
 "cells": [
  {
   "cell_type": "code",
   "execution_count": null,
   "id": "3d2a8183-e85b-4cac-a16e-d4c8a32e939d",
   "metadata": {},
   "outputs": [],
   "source": [
    "# Filtrando através da função col()"
   ]
  },
  {
   "cell_type": "code",
   "execution_count": 1,
   "id": "0d7a1d36-216e-4a4e-b177-9c1e01e4944c",
   "metadata": {},
   "outputs": [],
   "source": [
    "from pyspark.sql import SparkSession"
   ]
  },
  {
   "cell_type": "code",
   "execution_count": 4,
   "id": "939c8cfa-a1f4-4e33-a883-affa5401ddb9",
   "metadata": {},
   "outputs": [],
   "source": [
    "from pyspark.sql.functions import col"
   ]
  },
  {
   "cell_type": "code",
   "execution_count": 2,
   "id": "3600c023-018e-49b4-80c1-89f55c517e4f",
   "metadata": {},
   "outputs": [],
   "source": [
    "spark = SparkSession.builder.getOrCreate()"
   ]
  },
  {
   "cell_type": "code",
   "execution_count": 3,
   "id": "aad1b878-37c3-41cf-82aa-cec7983e5c16",
   "metadata": {},
   "outputs": [],
   "source": [
    "df = spark.read.parquet('imdb_parquet')"
   ]
  },
  {
   "cell_type": "code",
   "execution_count": null,
   "id": "04f5d598-a2e3-408b-86aa-76282f27bf6c",
   "metadata": {},
   "outputs": [],
   "source": [
    "# método contains"
   ]
  },
  {
   "cell_type": "code",
   "execution_count": 17,
   "id": "291b24d6-e837-4f55-bb5d-bcfdfa8bba28",
   "metadata": {},
   "outputs": [
    {
     "name": "stdout",
     "output_type": "stream",
     "text": [
      "+---------+---------+--------------------+--------------------+-------+---------+-------+--------------+--------------------+-------------+--------+\n",
      "|   tconst|titleType|        primaryTitle|       originalTitle|isAdult|startYear|endYear|runtimeMinutes|              genres|averageRating|numVotes|\n",
      "+---------+---------+--------------------+--------------------+-------+---------+-------+--------------+--------------------+-------------+--------+\n",
      "|tt0416826|  tvMovie|      Hulla di Bulla|      Hulla di Bulla|      0|     1967|     \\N|            95|              Comedy|          9.3|      23|\n",
      "|tt0523100|tvEpisode|Humbug Not to Be ...|Humbug Not to Be ...|      0|     1967|     \\N|            30|Comedy,Family,Fan...|          9.0|     235|\n",
      "|tt0536670|tvEpisode|Michele Lee and J...|Michele Lee and J...|      0|     1974|     \\N|            60|       Comedy,Family|          9.2|      18|\n",
      "|tt0574019|tvEpisode|     One Night Stand|     One Night Stand|      0|     1986|     \\N|            30|        Comedy,Drama|          9.0|      75|\n",
      "|tt0583892|tvEpisode|  The Shadow We Cast|  The Shadow We Cast|      0|     1997|     \\N|            26|        Comedy,Drama|          9.2|      12|\n",
      "+---------+---------+--------------------+--------------------+-------+---------+-------+--------------+--------------------+-------------+--------+\n",
      "only showing top 5 rows\n",
      "\n"
     ]
    }
   ],
   "source": [
    "df.filter(col('genres').contains('Comedy')).show(5)"
   ]
  },
  {
   "cell_type": "code",
   "execution_count": 14,
   "id": "6a40b15b-3676-4b0b-984e-3e77ceaeb9b1",
   "metadata": {},
   "outputs": [],
   "source": [
    "# Método isin()"
   ]
  },
  {
   "cell_type": "code",
   "execution_count": 29,
   "id": "85472c11-7d1d-4f05-8823-620dfc99cf8b",
   "metadata": {},
   "outputs": [],
   "source": [
    "start_year_dict = [2000,2010,2020]"
   ]
  },
  {
   "cell_type": "code",
   "execution_count": 30,
   "id": "664d0c50-a5b0-4323-a350-9a8912505877",
   "metadata": {},
   "outputs": [
    {
     "name": "stdout",
     "output_type": "stream",
     "text": [
      "+----------+---------+--------------------+--------------------+-------+---------+-------+--------------+--------------------+-------------+--------+\n",
      "|    tconst|titleType|        primaryTitle|       originalTitle|isAdult|startYear|endYear|runtimeMinutes|              genres|averageRating|numVotes|\n",
      "+----------+---------+--------------------+--------------------+-------+---------+-------+--------------+--------------------+-------------+--------+\n",
      "| tt0472558|  tvMovie|Sam Phillips: The...|Sam Phillips: The...|      0|     2000|     \\N|            90|         Documentary|          9.1|      26|\n",
      "|tt10712360| tvSeries|      Luna The Siren|      La Sirena Luna|      0|     2020|     \\N|            \\N|Animation,Drama,F...|          9.4|       8|\n",
      "|tt11752780|tvEpisode|Chapter 3: The Witch|Chapter 3: The Witch|      0|     2020|     \\N|            23|Adventure,Animati...|          9.0|     223|\n",
      "|tt11758294|tvEpisode|The Will of the P...|The Will of the P...|      0|     2020|     \\N|            24|Adventure,Animati...|          9.1|      23|\n",
      "|tt12058752|tvEpisode|Amsterdam With So...|Amsterdam With So...|      0|     2020|     \\N|            \\N|     Short,Talk-Show|          9.3|       9|\n",
      "+----------+---------+--------------------+--------------------+-------+---------+-------+--------------+--------------------+-------------+--------+\n",
      "only showing top 5 rows\n",
      "\n"
     ]
    }
   ],
   "source": [
    "df.filter(col('startYear').isin(start_year_dict)).show(5)"
   ]
  },
  {
   "cell_type": "code",
   "execution_count": 31,
   "id": "caa18acf-f57f-4fba-9dd5-c2d8e9e1448f",
   "metadata": {},
   "outputs": [],
   "source": [
    "# Método like() "
   ]
  },
  {
   "cell_type": "code",
   "execution_count": 32,
   "id": "591fdd93-71de-4308-bc94-ad900eb62c5c",
   "metadata": {},
   "outputs": [],
   "source": [
    "# O like funciona parecido com o like do sql podendo utilizar o _ para um caractere e % para multiplos caracteres"
   ]
  },
  {
   "cell_type": "code",
   "execution_count": 41,
   "id": "34aad788-dcc9-439c-8d13-5cb04ef5a6d1",
   "metadata": {},
   "outputs": [
    {
     "name": "stdout",
     "output_type": "stream",
     "text": [
      "+---------+---------+--------------------+--------------------+-------+---------+-------+--------------+--------------------+-------------+--------+\n",
      "|   tconst|titleType|        primaryTitle|       originalTitle|isAdult|startYear|endYear|runtimeMinutes|              genres|averageRating|numVotes|\n",
      "+---------+---------+--------------------+--------------------+-------+---------+-------+--------------+--------------------+-------------+--------+\n",
      "|tt0901680|tvEpisode|          Rauchwaren|          Rauchwaren|      0|     1966|     \\N|            23|              Comedy|          9.8|      20|\n",
      "|tt0980292|tvEpisode|Independent Spiri...|Independent Spiri...|      0|     2006|     \\N|            \\N|                News|          9.5|       7|\n",
      "|tt5585740|tvEpisode|               Owari|               Owari|      0|     2017|     \\N|            22|Action,Adventure,...|          9.5|     112|\n",
      "|tt8116364|tvEpisode| Chandni warns Advay| Chandni warns Advay|      0|     2017|     \\N|            \\N| Drama,Music,Mystery|         10.0|       7|\n",
      "|tt8924908|    short|          The Reward|          The Reward|      0|     2016|     \\N|            \\N|               Short|          9.3|       7|\n",
      "+---------+---------+--------------------+--------------------+-------+---------+-------+--------------+--------------------+-------------+--------+\n",
      "only showing top 5 rows\n",
      "\n"
     ]
    }
   ],
   "source": [
    "df.filter(col('originalTitle').like('%war%')).show(5)"
   ]
  },
  {
   "cell_type": "code",
   "execution_count": 40,
   "id": "75e4591c-f89e-4f8c-b310-2671f5234d34",
   "metadata": {},
   "outputs": [
    {
     "name": "stdout",
     "output_type": "stream",
     "text": [
      "+---------+---------+------------+-------------+-------+---------+-------+--------------+-----------------+-------------+--------+\n",
      "|   tconst|titleType|primaryTitle|originalTitle|isAdult|startYear|endYear|runtimeMinutes|           genres|averageRating|numVotes|\n",
      "+---------+---------+------------+-------------+-------+---------+-------+--------------+-----------------+-------------+--------+\n",
      "|tt6185180|    short|         Sam|          Sam|      0|     2016|     \\N|            \\N|      Drama,Short|          9.8|       5|\n",
      "|tt0844153|tvEpisode|         Sam|          Sam|      0|     2003|     \\N|            23|Comedy,Reality-TV|          9.0|       7|\n",
      "+---------+---------+------------+-------------+-------+---------+-------+--------------+-----------------+-------------+--------+\n",
      "\n"
     ]
    }
   ],
   "source": [
    "df.filter(col('originalTitle').like('_am')).show(5)"
   ]
  },
  {
   "cell_type": "code",
   "execution_count": null,
   "id": "cac29f29-6798-4e86-996e-ba9304112798",
   "metadata": {},
   "outputs": [],
   "source": [
    "# rlike()"
   ]
  },
  {
   "cell_type": "code",
   "execution_count": 55,
   "id": "2ed4ffab-d86c-4016-b759-c439f76da189",
   "metadata": {},
   "outputs": [
    {
     "name": "stdout",
     "output_type": "stream",
     "text": [
      "+----------+---------+------------+-------------+-------+---------+-------+--------------+--------------------+-------------+--------+\n",
      "|    tconst|titleType|primaryTitle|originalTitle|isAdult|startYear|endYear|runtimeMinutes|              genres|averageRating|numVotes|\n",
      "+----------+---------+------------+-------------+-------+---------+-------+--------------+--------------------+-------------+--------+\n",
      "| tt3818186|tvEpisode|        1116|         1116|      0|     1970|     \\N|            \\N|Family,Fantasy,Music|          9.0|       7|\n",
      "| tt3815772|tvEpisode|        1004|         1004|      0|     1969|     \\N|            \\N|Family,Fantasy,Music|          9.0|       7|\n",
      "| tt9262112|tvEpisode|        3358|         3358|      0|     1995|     \\N|            55|Adventure,Animati...|          9.0|       7|\n",
      "|tt11281576|    short|         203|          203|      0|     2017|     \\N|            \\N| Drama,Mystery,Short|          9.9|     105|\n",
      "| tt8656506|tvEpisode|         106|          106|      0|     2018|     \\N|            \\N|          Reality-TV|          9.4|      37|\n",
      "+----------+---------+------------+-------------+-------+---------+-------+--------------+--------------------+-------------+--------+\n",
      "only showing top 5 rows\n",
      "\n"
     ]
    }
   ],
   "source": [
    "df.filter(col(\"originalTitle\").rlike(\"^[0-9]*$\")).show(5)"
   ]
  },
  {
   "cell_type": "code",
   "execution_count": 44,
   "id": "cb9bc0e0-79b8-42b2-8706-6813a8db9101",
   "metadata": {},
   "outputs": [],
   "source": [
    "# função startswith()"
   ]
  },
  {
   "cell_type": "code",
   "execution_count": 54,
   "id": "62864726-7e6a-49c4-bd5a-3e6d45d280e3",
   "metadata": {},
   "outputs": [
    {
     "name": "stdout",
     "output_type": "stream",
     "text": [
      "+----------+---------+--------------------+--------------------+-------+---------+-------+--------------+--------------------+-------------+--------+\n",
      "|    tconst|titleType|        primaryTitle|       originalTitle|isAdult|startYear|endYear|runtimeMinutes|              genres|averageRating|numVotes|\n",
      "+----------+---------+--------------------+--------------------+-------+---------+-------+--------------+--------------------+-------------+--------+\n",
      "|tt11697516|tvEpisode|Star Trek Picard ...|Star Trek Picard ...|      0|     2020|     \\N|            \\N|Comedy,News,Talk-...|          9.4|       7|\n",
      "|tt11811958|tvEpisode|            StarCrau|            StarCrau|      0|     2019|     \\N|            \\N|                  \\N|          9.6|       6|\n",
      "| tt0709016|tvEpisode|   Starfish Troopers|   Starfish Troopers|      1|     2000|     \\N|            \\N| Adult,Comedy,Sci-Fi|         10.0|       5|\n",
      "| tt5702094|tvEpisode|       Start Digging|       Start Digging|      0|     2016|     \\N|            43|  Action,Crime,Drama|          9.2|     541|\n",
      "|tt11328926|    video|Star Wars SC 38 R...|Star Wars SC 38 R...|      0|     2019|     \\N|            \\N|        Sci-Fi,Short|          9.1|     248|\n",
      "+----------+---------+--------------------+--------------------+-------+---------+-------+--------------+--------------------+-------------+--------+\n",
      "only showing top 5 rows\n",
      "\n"
     ]
    }
   ],
   "source": [
    "df.filter(col('originalTitle').startswith('Star')).show(5)"
   ]
  },
  {
   "cell_type": "code",
   "execution_count": null,
   "id": "50b8a124-dc01-48b8-99f3-4fe1da0a7273",
   "metadata": {},
   "outputs": [],
   "source": [
    "# função endswith()"
   ]
  },
  {
   "cell_type": "code",
   "execution_count": 53,
   "id": "14200961-ae2e-41df-a845-b739bc71c9c9",
   "metadata": {},
   "outputs": [
    {
     "name": "stdout",
     "output_type": "stream",
     "text": [
      "+---------+---------+--------------------+--------------------+-------+---------+-------+--------------+--------------------+-------------+--------+\n",
      "|   tconst|titleType|        primaryTitle|       originalTitle|isAdult|startYear|endYear|runtimeMinutes|              genres|averageRating|numVotes|\n",
      "+---------+---------+--------------------+--------------------+-------+---------+-------+--------------+--------------------+-------------+--------+\n",
      "|tt0343987|tvSpecial|Live from Studio ...|Live from Studio ...|      0|     1981|     \\N|           120|               Music|          9.0|      10|\n",
      "|tt0514411|tvEpisode|The Tale of the D...|The Tale of the D...|      0|     1992|     \\N|            22|Drama,Family,Fantasy|          9.1|     827|\n",
      "|tt1897828|tvEpisode|      Face the Music|      Face the Music|      0|     2010|     \\N|            \\N|              Comedy|          9.3|      31|\n",
      "|tt7662232|    video|The Best Relaxing...|The Best Relaxing...|      0|     2017|     \\N|            \\N|               Music|          9.3|       7|\n",
      "|tt8354412|tvEpisode|Outstanding Pagea...|Outstanding Pagea...|      0|     2018|     \\N|            \\N|           Talk-Show|         10.0|       9|\n",
      "+---------+---------+--------------------+--------------------+-------+---------+-------+--------------+--------------------+-------------+--------+\n",
      "only showing top 5 rows\n",
      "\n"
     ]
    }
   ],
   "source": [
    "df.filter(col('originalTitle').endswith('Music')).show(5)"
   ]
  },
  {
   "cell_type": "code",
   "execution_count": null,
   "id": "f6a47d7b-0c0b-4319-a515-956dd0d1b461",
   "metadata": {},
   "outputs": [],
   "source": [
    "# between() function"
   ]
  },
  {
   "cell_type": "code",
   "execution_count": 52,
   "id": "c13cc8d0-b0ff-40ff-a348-dd17bac32717",
   "metadata": {},
   "outputs": [
    {
     "name": "stdout",
     "output_type": "stream",
     "text": [
      "+---------+---------+--------------------+--------------------+-------+---------+-------+--------------+-------------+-------------+--------+\n",
      "|   tconst|titleType|        primaryTitle|       originalTitle|isAdult|startYear|endYear|runtimeMinutes|       genres|averageRating|numVotes|\n",
      "+---------+---------+--------------------+--------------------+-------+---------+-------+--------------+-------------+-------------+--------+\n",
      "|tt0319762|    movie|   Looking Your Best|   Looking Your Best|      0|     1989|     \\N|            71|           \\N|          9.4|       9|\n",
      "|tt0343987|tvSpecial|Live from Studio ...|Live from Studio ...|      0|     1981|     \\N|           120|        Music|          9.0|      10|\n",
      "|tt0574019|tvEpisode|     One Night Stand|     One Night Stand|      0|     1986|     \\N|            30| Comedy,Drama|          9.0|      75|\n",
      "|tt0755487|tvEpisode|        Elliot's Dad|        Elliot's Dad|      0|     1989|     \\N|            48|Drama,Romance|          9.0|      63|\n",
      "|tt0755539|tvEpisode|      The Go Between|      The Go Between|      0|     1990|     \\N|            48|Drama,Romance|          9.1|      77|\n",
      "+---------+---------+--------------------+--------------------+-------+---------+-------+--------------+-------------+-------------+--------+\n",
      "only showing top 5 rows\n",
      "\n"
     ]
    }
   ],
   "source": [
    "df.filter(col('startYear').between(1980,1990)).show(5)"
   ]
  },
  {
   "cell_type": "code",
   "execution_count": null,
   "id": "7dadb314-e2c7-4116-b64d-81a0a28c85d7",
   "metadata": {},
   "outputs": [],
   "source": [
    "# função isnull() "
   ]
  },
  {
   "cell_type": "code",
   "execution_count": 61,
   "id": "fa0e585c-2dcf-4bfd-869d-4cb3d1cb44b5",
   "metadata": {},
   "outputs": [
    {
     "name": "stdout",
     "output_type": "stream",
     "text": [
      "+------+---------+------------+-------------+-------+---------+-------+--------------+------+-------------+--------+\n",
      "|tconst|titleType|primaryTitle|originalTitle|isAdult|startYear|endYear|runtimeMinutes|genres|averageRating|numVotes|\n",
      "+------+---------+------------+-------------+-------+---------+-------+--------------+------+-------------+--------+\n",
      "+------+---------+------------+-------------+-------+---------+-------+--------------+------+-------------+--------+\n",
      "\n"
     ]
    }
   ],
   "source": [
    "df.filter(col('endYear').isNull()).show()"
   ]
  },
  {
   "cell_type": "code",
   "execution_count": null,
   "id": "ebb64623-3233-47bf-b6bf-849135979b70",
   "metadata": {},
   "outputs": [],
   "source": []
  },
  {
   "cell_type": "code",
   "execution_count": null,
   "id": "bbbf88fa-4953-4064-a0ca-46849b163775",
   "metadata": {},
   "outputs": [],
   "source": []
  },
  {
   "cell_type": "code",
   "execution_count": null,
   "id": "56d28d37-0890-4c94-864a-97e4cb15732c",
   "metadata": {},
   "outputs": [],
   "source": []
  }
 ],
 "metadata": {
  "kernelspec": {
   "display_name": "Python 3",
   "language": "python",
   "name": "python3"
  },
  "language_info": {
   "codemirror_mode": {
    "name": "ipython",
    "version": 3
   },
   "file_extension": ".py",
   "mimetype": "text/x-python",
   "name": "python",
   "nbconvert_exporter": "python",
   "pygments_lexer": "ipython3",
   "version": "3.9.4"
  }
 },
 "nbformat": 4,
 "nbformat_minor": 5
}
