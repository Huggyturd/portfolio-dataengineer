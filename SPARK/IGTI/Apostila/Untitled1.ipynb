{
 "cells": [
  {
   "cell_type": "code",
   "execution_count": 1,
   "id": "fe842c4d-fcbf-4e2f-9a12-21f00ad2fa70",
   "metadata": {},
   "outputs": [],
   "source": [
    "# Criando colunas na seleção"
   ]
  },
  {
   "cell_type": "code",
   "execution_count": 6,
   "id": "222b448d-0eec-4574-928f-68383fd22c77",
   "metadata": {},
   "outputs": [],
   "source": [
    "from pyspark.sql import SparkSession"
   ]
  },
  {
   "cell_type": "code",
   "execution_count": 7,
   "id": "bd3421ad-8fec-4278-98cd-91eb2466c08a",
   "metadata": {},
   "outputs": [],
   "source": [
    "from pyspark.sql.functions import col"
   ]
  },
  {
   "cell_type": "code",
   "execution_count": 3,
   "id": "3652952a-92fa-46c4-bd51-e5ea56f1d742",
   "metadata": {},
   "outputs": [],
   "source": [
    "spark = SparkSession.builder.getOrCreate()"
   ]
  },
  {
   "cell_type": "code",
   "execution_count": 4,
   "id": "34a069b4-ef32-42d9-ac8f-6cc6993c7443",
   "metadata": {},
   "outputs": [],
   "source": [
    "df = spark.read.load('df_notas')"
   ]
  },
  {
   "cell_type": "code",
   "execution_count": 8,
   "id": "95f2905e-eaba-4f24-bf9f-e0403533102d",
   "metadata": {},
   "outputs": [
    {
     "name": "stdout",
     "output_type": "stream",
     "text": [
      "+----+----------+\n",
      "|nota|(nota + 5)|\n",
      "+----+----------+\n",
      "|   8|        13|\n",
      "|   7|        12|\n",
      "|   5|        10|\n",
      "+----+----------+\n",
      "\n"
     ]
    }
   ],
   "source": [
    "df.select('nota', col('nota') + 5).show()"
   ]
  },
  {
   "cell_type": "code",
   "execution_count": null,
   "id": "71275fd4-9de3-43e3-86a5-82e323404110",
   "metadata": {},
   "outputs": [],
   "source": []
  }
 ],
 "metadata": {
  "kernelspec": {
   "display_name": "Python 3",
   "language": "python",
   "name": "python3"
  },
  "language_info": {
   "codemirror_mode": {
    "name": "ipython",
    "version": 3
   },
   "file_extension": ".py",
   "mimetype": "text/x-python",
   "name": "python",
   "nbconvert_exporter": "python",
   "pygments_lexer": "ipython3",
   "version": "3.9.4"
  }
 },
 "nbformat": 4,
 "nbformat_minor": 5
}
