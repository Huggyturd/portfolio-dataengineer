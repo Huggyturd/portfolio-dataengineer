{
 "cells": [
  {
   "cell_type": "code",
   "execution_count": null,
   "id": "52142d80-3142-43bb-b17a-53e4d38138c7",
   "metadata": {},
   "outputs": [],
   "source": [
    "# Criando dataframe e escrevendo em parquet particionado"
   ]
  },
  {
   "cell_type": "code",
   "execution_count": 1,
   "id": "7a04912b-8dfb-4eea-85ef-ae6adf911218",
   "metadata": {},
   "outputs": [],
   "source": [
    "from pyspark.sql import SparkSession"
   ]
  },
  {
   "cell_type": "code",
   "execution_count": 2,
   "id": "934d803f-42af-49c1-a64b-323c779df2ff",
   "metadata": {},
   "outputs": [],
   "source": [
    "spark = SparkSession.builder.getOrCreate()"
   ]
  },
  {
   "cell_type": "code",
   "execution_count": 3,
   "id": "2fe4f673-d9aa-43a2-b8f1-54c1dd92c64f",
   "metadata": {},
   "outputs": [],
   "source": [
    "data = [('Pedro',7),('Mateus',8),('João',5)]"
   ]
  },
  {
   "cell_type": "code",
   "execution_count": 4,
   "id": "9eee8562-fa8e-4647-865b-47cac670f329",
   "metadata": {},
   "outputs": [],
   "source": [
    "schema = 'nome STRING, nota INT'"
   ]
  },
  {
   "cell_type": "code",
   "execution_count": 5,
   "id": "7312aaee-7589-4659-b121-086e421cd3d4",
   "metadata": {},
   "outputs": [],
   "source": [
    "df = spark.createDataFrame(data=data,schema=schema)"
   ]
  },
  {
   "cell_type": "code",
   "execution_count": 6,
   "id": "e2d65d57-61d6-48bf-a629-d99a9031b981",
   "metadata": {},
   "outputs": [
    {
     "name": "stdout",
     "output_type": "stream",
     "text": [
      "+------+----+\n",
      "|  nome|nota|\n",
      "+------+----+\n",
      "| Pedro|   7|\n",
      "|Mateus|   8|\n",
      "|  João|   5|\n",
      "+------+----+\n",
      "\n"
     ]
    }
   ],
   "source": [
    "df.show()"
   ]
  },
  {
   "cell_type": "code",
   "execution_count": 7,
   "id": "7575ee77-8c67-491a-9b12-f104ea71a60e",
   "metadata": {},
   "outputs": [],
   "source": [
    "path = 'df_notas'"
   ]
  },
  {
   "cell_type": "code",
   "execution_count": 8,
   "id": "ea8266ad-c303-4cfd-84d4-0abc1659d4e0",
   "metadata": {},
   "outputs": [],
   "source": [
    "df.write.parquet(path)"
   ]
  },
  {
   "cell_type": "code",
   "execution_count": null,
   "id": "c358b811-1c94-46a5-bebd-a4abe31cb682",
   "metadata": {},
   "outputs": [],
   "source": []
  }
 ],
 "metadata": {
  "kernelspec": {
   "display_name": "Python 3",
   "language": "python",
   "name": "python3"
  },
  "language_info": {
   "codemirror_mode": {
    "name": "ipython",
    "version": 3
   },
   "file_extension": ".py",
   "mimetype": "text/x-python",
   "name": "python",
   "nbconvert_exporter": "python",
   "pygments_lexer": "ipython3",
   "version": "3.9.4"
  }
 },
 "nbformat": 4,
 "nbformat_minor": 5
}
