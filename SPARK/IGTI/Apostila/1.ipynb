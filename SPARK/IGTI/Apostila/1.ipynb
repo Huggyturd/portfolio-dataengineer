{
 "cells": [
  {
   "cell_type": "code",
   "execution_count": null,
   "id": "a93e3bca-35d1-4568-a5fd-159a1322070b",
   "metadata": {},
   "outputs": [],
   "source": [
    "# Importando o SparkSession"
   ]
  },
  {
   "cell_type": "code",
   "execution_count": 6,
   "id": "b5e3aeb4-7c4c-4e7b-9ed7-6c3165c648b9",
   "metadata": {},
   "outputs": [],
   "source": [
    "from pyspark.sql import SparkSession"
   ]
  },
  {
   "cell_type": "code",
   "execution_count": null,
   "id": "ba855f22-15f6-470d-819f-12c0e89724d8",
   "metadata": {},
   "outputs": [],
   "source": [
    "# Criando uma SparkSession"
   ]
  },
  {
   "cell_type": "code",
   "execution_count": 3,
   "id": "5583b4d1-505b-49fc-a231-aad20cdad77f",
   "metadata": {},
   "outputs": [],
   "source": [
    "spark = SparkSession.builder.getOrCreate()"
   ]
  },
  {
   "cell_type": "code",
   "execution_count": 8,
   "id": "6f2d9571-588f-4d03-a0cb-2d5ecf870713",
   "metadata": {},
   "outputs": [],
   "source": [
    "# Utilizando método range para criar um dataframe com 5 valores"
   ]
  },
  {
   "cell_type": "code",
   "execution_count": 10,
   "id": "0356c48f-2fc5-4506-99db-e170febd41d7",
   "metadata": {},
   "outputs": [],
   "source": [
    "df = spark.range(5)"
   ]
  },
  {
   "cell_type": "code",
   "execution_count": 11,
   "id": "5fbc3702-9d91-4182-b7ea-f187223b8f6e",
   "metadata": {},
   "outputs": [],
   "source": [
    "# Chamando método show para printar valores na tela"
   ]
  },
  {
   "cell_type": "code",
   "execution_count": 7,
   "id": "0c67be34-4bf3-4beb-a229-01abf7a738a2",
   "metadata": {},
   "outputs": [
    {
     "name": "stdout",
     "output_type": "stream",
     "text": [
      "+---+\n",
      "| id|\n",
      "+---+\n",
      "|  0|\n",
      "|  1|\n",
      "|  2|\n",
      "|  3|\n",
      "|  4|\n",
      "+---+\n",
      "\n"
     ]
    }
   ],
   "source": [
    "df.show()"
   ]
  },
  {
   "cell_type": "code",
   "execution_count": null,
   "id": "37436ede-53e0-48f5-beb8-4717b8243dcd",
   "metadata": {},
   "outputs": [],
   "source": []
  },
  {
   "cell_type": "code",
   "execution_count": null,
   "id": "f87ea417-b536-4b79-9246-031a6f081586",
   "metadata": {},
   "outputs": [],
   "source": []
  }
 ],
 "metadata": {
  "kernelspec": {
   "display_name": "Python 3",
   "language": "python",
   "name": "python3"
  },
  "language_info": {
   "codemirror_mode": {
    "name": "ipython",
    "version": 3
   },
   "file_extension": ".py",
   "mimetype": "text/x-python",
   "name": "python",
   "nbconvert_exporter": "python",
   "pygments_lexer": "ipython3",
   "version": "3.9.4"
  }
 },
 "nbformat": 4,
 "nbformat_minor": 5
}
