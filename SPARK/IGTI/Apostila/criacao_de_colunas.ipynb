{
 "cells": [
  {
   "cell_type": "code",
   "execution_count": 1,
   "id": "da27f60a-397e-4885-ace7-ae25ee6057ff",
   "metadata": {},
   "outputs": [],
   "source": [
    "# Criação de colunas"
   ]
  },
  {
   "cell_type": "code",
   "execution_count": 6,
   "id": "5f218b40-e160-44c4-84a9-b75f53ce3403",
   "metadata": {},
   "outputs": [],
   "source": [
    "from pyspark.sql import SparkSession\n",
    "from pyspark.sql.functions import col"
   ]
  },
  {
   "cell_type": "code",
   "execution_count": 3,
   "id": "3ff3e706-1207-4520-9ce7-1fe610352a8e",
   "metadata": {},
   "outputs": [],
   "source": [
    "spark = SparkSession.builder.getOrCreate()"
   ]
  },
  {
   "cell_type": "code",
   "execution_count": 4,
   "id": "9b210e98-fbf3-46ad-81db-34b5a179f37b",
   "metadata": {},
   "outputs": [],
   "source": [
    "df = spark.read.parquet('imdb_parquet/')"
   ]
  },
  {
   "cell_type": "code",
   "execution_count": 9,
   "id": "4cc2979d-2602-4ae7-ba57-a48c327b0310",
   "metadata": {},
   "outputs": [
    {
     "name": "stdout",
     "output_type": "stream",
     "text": [
      "+---------+---------+--------------------+-----------------+-------+---------+-------+--------------+-----------+-------------+--------+----------------+\n",
      "|   tconst|titleType|        primaryTitle|    originalTitle|isAdult|startYear|endYear|runtimeMinutes|     genres|averageRating|numVotes|averageRating100|\n",
      "+---------+---------+--------------------+-----------------+-------+---------+-------+--------------+-----------+-------------+--------+----------------+\n",
      "|tt0060679|    movie|      Matira Manisha|   Matira Manisha|      0|     1966|     \\N|           113|      Drama|          9.0|      25|            90.0|\n",
      "|tt0301052|    video|The Fantastic Voyage|  Boob Cruise '98|      1|     1998|     \\N|            90|         \\N|         10.0|      14|           100.0|\n",
      "|tt0319762|    movie|   Looking Your Best|Looking Your Best|      0|     1989|     \\N|            71|         \\N|          9.4|       9|            94.0|\n",
      "|tt0326019|    short| Nothing's Permanent|      Prolazi sve|      0|     1994|     \\N|             5|      Short|          9.2|      15|            92.0|\n",
      "|tt0330921|    video|      Spaljeno sunce|   Spaljeno sunce|      0|     2001|     \\N|            50|Documentary|          9.8|      11|            98.0|\n",
      "+---------+---------+--------------------+-----------------+-------+---------+-------+--------------+-----------+-------------+--------+----------------+\n",
      "only showing top 5 rows\n",
      "\n"
     ]
    }
   ],
   "source": [
    "df.withColumn('averageRating100', col('averageRating') * 10).show(5)"
   ]
  },
  {
   "cell_type": "code",
   "execution_count": null,
   "id": "98308078-def6-435e-8a1c-f394c168615a",
   "metadata": {},
   "outputs": [],
   "source": []
  }
 ],
 "metadata": {
  "kernelspec": {
   "display_name": "Python 3",
   "language": "python",
   "name": "python3"
  },
  "language_info": {
   "codemirror_mode": {
    "name": "ipython",
    "version": 3
   },
   "file_extension": ".py",
   "mimetype": "text/x-python",
   "name": "python",
   "nbconvert_exporter": "python",
   "pygments_lexer": "ipython3",
   "version": "3.9.4"
  }
 },
 "nbformat": 4,
 "nbformat_minor": 5
}
