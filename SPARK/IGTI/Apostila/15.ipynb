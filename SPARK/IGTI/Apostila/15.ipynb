{
 "cells": [
  {
   "cell_type": "code",
   "execution_count": null,
   "id": "3eb9c089-57af-4663-aeb3-810360c16bcd",
   "metadata": {},
   "outputs": [],
   "source": [
    "# Filtro básico de linhas"
   ]
  },
  {
   "cell_type": "code",
   "execution_count": 1,
   "id": "f29d0388-3a0a-4f1f-9db7-3796b01d4fca",
   "metadata": {},
   "outputs": [],
   "source": [
    "from pyspark.sql import SparkSession"
   ]
  },
  {
   "cell_type": "code",
   "execution_count": 2,
   "id": "a63558ad-22c9-48ef-87d9-3f7ccad7aec0",
   "metadata": {},
   "outputs": [],
   "source": [
    "spark = SparkSession.builder.getOrCreate()"
   ]
  },
  {
   "cell_type": "code",
   "execution_count": 3,
   "id": "969d4a57-e4e5-42dd-ba41-05e94a7de7a6",
   "metadata": {},
   "outputs": [],
   "source": [
    "df = spark.read.parquet('df_notas/')"
   ]
  },
  {
   "cell_type": "code",
   "execution_count": 4,
   "id": "ac2887d8-14a2-4103-80a1-697f76d0d16d",
   "metadata": {},
   "outputs": [
    {
     "name": "stdout",
     "output_type": "stream",
     "text": [
      "+------+----+\n",
      "|  nome|nota|\n",
      "+------+----+\n",
      "|Mateus|   8|\n",
      "| Pedro|   7|\n",
      "|  João|   5|\n",
      "+------+----+\n",
      "\n"
     ]
    }
   ],
   "source": [
    "df.show()"
   ]
  },
  {
   "cell_type": "code",
   "execution_count": null,
   "id": "5a3ff313-8f8f-4024-a93a-270117ad2b60",
   "metadata": {},
   "outputs": [],
   "source": [
    "# Usando string"
   ]
  },
  {
   "cell_type": "code",
   "execution_count": 6,
   "id": "62957ba1-fae4-4f13-bcfd-e913ef99c08c",
   "metadata": {},
   "outputs": [
    {
     "name": "stdout",
     "output_type": "stream",
     "text": [
      "+----+----+\n",
      "|nome|nota|\n",
      "+----+----+\n",
      "|João|   5|\n",
      "+----+----+\n",
      "\n"
     ]
    }
   ],
   "source": [
    "df.filter('nota <= 5').show()"
   ]
  },
  {
   "cell_type": "code",
   "execution_count": 12,
   "id": "fbaa56eb-4aa8-48f5-9cd8-1ed9975a0dbf",
   "metadata": {},
   "outputs": [
    {
     "name": "stdout",
     "output_type": "stream",
     "text": [
      "+------+----+\n",
      "|  nome|nota|\n",
      "+------+----+\n",
      "|Mateus|   8|\n",
      "+------+----+\n",
      "\n"
     ]
    }
   ],
   "source": [
    "df.filter('nome = \"Mateus\"').show()"
   ]
  },
  {
   "cell_type": "code",
   "execution_count": null,
   "id": "ab70c7bb-7fd8-41bd-96ec-906c53b32092",
   "metadata": {},
   "outputs": [],
   "source": [
    "# Usndo colunas"
   ]
  },
  {
   "cell_type": "code",
   "execution_count": 7,
   "id": "b7391f7e-5ba5-4893-8f9f-689a99b0c4ec",
   "metadata": {},
   "outputs": [],
   "source": [
    "from pyspark.sql.functions import col"
   ]
  },
  {
   "cell_type": "code",
   "execution_count": 9,
   "id": "b789e892-ff6d-4aef-89d4-58d920e9df4e",
   "metadata": {},
   "outputs": [
    {
     "name": "stdout",
     "output_type": "stream",
     "text": [
      "+----+----+\n",
      "|nome|nota|\n",
      "+----+----+\n",
      "|João|   5|\n",
      "+----+----+\n",
      "\n"
     ]
    }
   ],
   "source": [
    "df.filter(col('nota') <= 5).show()"
   ]
  },
  {
   "cell_type": "code",
   "execution_count": 14,
   "id": "4f60ee90-1093-47bb-abe9-6d345431f6e0",
   "metadata": {},
   "outputs": [
    {
     "name": "stdout",
     "output_type": "stream",
     "text": [
      "+------+----+\n",
      "|  nome|nota|\n",
      "+------+----+\n",
      "|Mateus|   8|\n",
      "+------+----+\n",
      "\n"
     ]
    }
   ],
   "source": [
    "df.filter(col('nome') == 'Mateus').show()"
   ]
  },
  {
   "cell_type": "code",
   "execution_count": null,
   "id": "4212b36b-b75b-45ec-9143-6ba5875a9558",
   "metadata": {},
   "outputs": [],
   "source": []
  }
 ],
 "metadata": {
  "kernelspec": {
   "display_name": "Python 3",
   "language": "python",
   "name": "python3"
  },
  "language_info": {
   "codemirror_mode": {
    "name": "ipython",
    "version": 3
   },
   "file_extension": ".py",
   "mimetype": "text/x-python",
   "name": "python",
   "nbconvert_exporter": "python",
   "pygments_lexer": "ipython3",
   "version": "3.9.4"
  }
 },
 "nbformat": 4,
 "nbformat_minor": 5
}
