{
 "cells": [
  {
   "cell_type": "code",
   "execution_count": null,
   "id": "d36fbc1e-09ab-4c78-9bc7-f2be13a14181",
   "metadata": {},
   "outputs": [],
   "source": [
    "# Instanciando tipos de dados "
   ]
  },
  {
   "cell_type": "code",
   "execution_count": null,
   "id": "f1e4befb-9fff-4b7d-bdf2-0e80c60def72",
   "metadata": {},
   "outputs": [],
   "source": [
    "# Importando SparkSession"
   ]
  },
  {
   "cell_type": "code",
   "execution_count": 1,
   "id": "5bd4b6e9-612f-4537-9a01-876d4314bf4c",
   "metadata": {},
   "outputs": [],
   "source": [
    "from pyspark.sql import SparkSession"
   ]
  },
  {
   "cell_type": "code",
   "execution_count": 2,
   "id": "4b645873-d432-4cfe-aabc-2da7a68e83be",
   "metadata": {},
   "outputs": [],
   "source": [
    "from pyspark.sql.types import *"
   ]
  },
  {
   "cell_type": "code",
   "execution_count": null,
   "id": "c93aeb3c-dc55-416d-b660-47ccf8d31cd7",
   "metadata": {},
   "outputs": [],
   "source": [
    "# Tipos abaixos são reconhecidos no Python como Inteiros"
   ]
  },
  {
   "cell_type": "code",
   "execution_count": 8,
   "id": "113a55c1-0de3-40a8-a2d8-0517cb8e2545",
   "metadata": {},
   "outputs": [],
   "source": [
    "byte_type = ByteType()"
   ]
  },
  {
   "cell_type": "code",
   "execution_count": 9,
   "id": "b07cc825-d463-4ff6-a262-a530bf4c8628",
   "metadata": {},
   "outputs": [],
   "source": [
    "short_type = ShortType()"
   ]
  },
  {
   "cell_type": "code",
   "execution_count": 10,
   "id": "14be3deb-3f30-4b8e-9073-8a0145cd8958",
   "metadata": {},
   "outputs": [],
   "source": [
    "integer_type = IntegerType()"
   ]
  },
  {
   "cell_type": "code",
   "execution_count": 11,
   "id": "ab3bf657-85b2-4dc9-9bc9-18f045904fa4",
   "metadata": {},
   "outputs": [],
   "source": [
    "long_type = LongType()"
   ]
  },
  {
   "cell_type": "code",
   "execution_count": null,
   "id": "ee4d9d63-c4dc-4618-b8c0-82abaf3e9489",
   "metadata": {},
   "outputs": [],
   "source": [
    "# Tipos abaixos são reconhecidos como float"
   ]
  },
  {
   "cell_type": "code",
   "execution_count": 13,
   "id": "8dc26afb-4b17-4d79-83fe-de6c91df3741",
   "metadata": {},
   "outputs": [],
   "source": [
    "float_type = FloatType()"
   ]
  },
  {
   "cell_type": "code",
   "execution_count": 15,
   "id": "0544ba6f-380a-42ad-8238-643b2e61f4a9",
   "metadata": {},
   "outputs": [],
   "source": [
    "double_type = DoubleType()"
   ]
  },
  {
   "cell_type": "code",
   "execution_count": null,
   "id": "b6f45580-f2f2-4302-b333-077b65aa5964",
   "metadata": {},
   "outputs": [],
   "source": [
    "# Tipo abaixo é reconhecido como string"
   ]
  },
  {
   "cell_type": "code",
   "execution_count": 16,
   "id": "3e6c141a-0297-4f0f-b1c5-78e0127b27b6",
   "metadata": {},
   "outputs": [],
   "source": [
    "string_type = StringType()"
   ]
  },
  {
   "cell_type": "code",
   "execution_count": null,
   "id": "badea937-f539-44ca-ae53-6a69d5df8a88",
   "metadata": {},
   "outputs": [],
   "source": [
    "# Tipo abaixo é reconhecido como booleano"
   ]
  },
  {
   "cell_type": "code",
   "execution_count": 17,
   "id": "61851aa4-323c-49dc-8593-5cf742982314",
   "metadata": {},
   "outputs": [],
   "source": [
    "boolean_type = BooleanType()"
   ]
  },
  {
   "cell_type": "code",
   "execution_count": null,
   "id": "72a7f006-4ce8-404b-bc31-1cae0fb7489c",
   "metadata": {},
   "outputs": [],
   "source": [
    "# Tipo abaixo é reconhecido como decimal"
   ]
  },
  {
   "cell_type": "code",
   "execution_count": 18,
   "id": "aa4afd45-832b-4fe8-8493-2b724a6e9c0f",
   "metadata": {},
   "outputs": [],
   "source": [
    "decimal_type = DecimalType()"
   ]
  },
  {
   "cell_type": "code",
   "execution_count": 6,
   "id": "c68aa9fe-ef18-45b7-b4a2-a5c32f5bfc67",
   "metadata": {},
   "outputs": [],
   "source": []
  },
  {
   "cell_type": "code",
   "execution_count": 20,
   "id": "781cd653-fb93-464a-a77e-b60a0cc23397",
   "metadata": {},
   "outputs": [],
   "source": [
    "# Tipos complexos"
   ]
  },
  {
   "cell_type": "code",
   "execution_count": 21,
   "id": "ad570418-178e-4cfd-a48a-41a726c485a7",
   "metadata": {},
   "outputs": [],
   "source": [
    "# Tipo abaixo é reconhecido como  array de bytes"
   ]
  },
  {
   "cell_type": "code",
   "execution_count": 22,
   "id": "692aee3a-0a1b-4dff-ba47-7a900ee2d5bd",
   "metadata": {},
   "outputs": [],
   "source": [
    "binary_type = BinaryType()"
   ]
  },
  {
   "cell_type": "code",
   "execution_count": 23,
   "id": "a84c26d6-207f-4624-96ef-f7647f2532f0",
   "metadata": {},
   "outputs": [],
   "source": [
    "# Tipo abaixo é reconhecido como datetime"
   ]
  },
  {
   "cell_type": "code",
   "execution_count": 24,
   "id": "b02e10aa-9fd9-4d99-88ec-63e581c5ccda",
   "metadata": {},
   "outputs": [],
   "source": [
    "timestamp_datetime = TimestampType()"
   ]
  },
  {
   "cell_type": "code",
   "execution_count": 25,
   "id": "12f0a76d-6855-4417-bbe1-4e1d410a6ad9",
   "metadata": {},
   "outputs": [],
   "source": [
    "# Tipo abaixo é reconhecido como date"
   ]
  },
  {
   "cell_type": "code",
   "execution_count": 26,
   "id": "812200ec-0bae-41fd-a611-876f30d10c13",
   "metadata": {},
   "outputs": [],
   "source": [
    "date_type = DateType()"
   ]
  },
  {
   "cell_type": "code",
   "execution_count": 27,
   "id": "3d3bfdf8-2d75-41e5-8ce9-219168a407d5",
   "metadata": {},
   "outputs": [],
   "source": [
    "# Tipo abaixo é reconhecido como tupla, lista ou array"
   ]
  },
  {
   "cell_type": "code",
   "execution_count": 28,
   "id": "85b09a69-a52e-4127-9cff-9a06b5b987a6",
   "metadata": {},
   "outputs": [],
   "source": [
    "array_type_de_inteiros = ArrayType(IntegerType())"
   ]
  },
  {
   "cell_type": "code",
   "execution_count": 29,
   "id": "4b687850-ba28-4161-b7db-8d06bf32bc70",
   "metadata": {},
   "outputs": [],
   "source": [
    "# Tipo abaixo é reconhecido como dicionario"
   ]
  },
  {
   "cell_type": "code",
   "execution_count": 31,
   "id": "633c8b82-a9e4-4cad-a23e-db8c318bcdbe",
   "metadata": {},
   "outputs": [],
   "source": [
    "map_type = MapType(IntegerType(),IntegerType())"
   ]
  },
  {
   "cell_type": "code",
   "execution_count": 32,
   "id": "5f6e47c2-4165-4013-b966-f40e9be2adff",
   "metadata": {},
   "outputs": [],
   "source": [
    "# Tipo abaixo é reconhecido como lista ou tupla"
   ]
  },
  {
   "cell_type": "code",
   "execution_count": null,
   "id": "c3381594-7e5b-46e0-b33f-d85daae6eaf3",
   "metadata": {},
   "outputs": [],
   "source": []
  }
 ],
 "metadata": {
  "kernelspec": {
   "display_name": "Python 3",
   "language": "python",
   "name": "python3"
  },
  "language_info": {
   "codemirror_mode": {
    "name": "ipython",
    "version": 3
   },
   "file_extension": ".py",
   "mimetype": "text/x-python",
   "name": "python",
   "nbconvert_exporter": "python",
   "pygments_lexer": "ipython3",
   "version": "3.9.4"
  }
 },
 "nbformat": 4,
 "nbformat_minor": 5
}
