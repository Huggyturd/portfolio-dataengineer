{
 "cells": [
  {
   "cell_type": "code",
   "execution_count": 1,
   "id": "7d0d3cdb-f7cf-4bbf-a885-39b515b69288",
   "metadata": {},
   "outputs": [],
   "source": [
    "from pyspark.sql import SparkSession"
   ]
  },
  {
   "cell_type": "code",
   "execution_count": 2,
   "id": "d819efd2-e76a-42a5-8fab-1646cdecf3bf",
   "metadata": {},
   "outputs": [],
   "source": [
    "spark = SparkSession.builder.getOrCreate()"
   ]
  },
  {
   "cell_type": "code",
   "execution_count": 3,
   "id": "4de935d4-900c-4076-ae6f-a911f9ec241b",
   "metadata": {},
   "outputs": [],
   "source": [
    "df = spark.createDataFrame(data=[['Pedro',7],['João',7],['Barbára',10]],schema='nome STRING, nota INT')"
   ]
  },
  {
   "cell_type": "code",
   "execution_count": 4,
   "id": "e5efaea6-b1c5-45d6-9422-7c62c9ecb49b",
   "metadata": {},
   "outputs": [
    {
     "name": "stdout",
     "output_type": "stream",
     "text": [
      "+----+\n",
      "|nota|\n",
      "+----+\n",
      "|   7|\n",
      "|  10|\n",
      "+----+\n",
      "\n"
     ]
    }
   ],
   "source": [
    "df.select('nota').distinct().show()"
   ]
  },
  {
   "cell_type": "code",
   "execution_count": null,
   "id": "32fcb1c5-ea87-41d8-b15f-fd423bfee6ca",
   "metadata": {},
   "outputs": [],
   "source": []
  }
 ],
 "metadata": {
  "kernelspec": {
   "display_name": "Python 3",
   "language": "python",
   "name": "python3"
  },
  "language_info": {
   "codemirror_mode": {
    "name": "ipython",
    "version": 3
   },
   "file_extension": ".py",
   "mimetype": "text/x-python",
   "name": "python",
   "nbconvert_exporter": "python",
   "pygments_lexer": "ipython3",
   "version": "3.9.4"
  }
 },
 "nbformat": 4,
 "nbformat_minor": 5
}
