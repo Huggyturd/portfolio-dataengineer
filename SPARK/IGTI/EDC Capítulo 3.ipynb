{
 "cells": [
  {
   "cell_type": "markdown",
   "id": "896f9f70-e2a5-41d2-9d99-ee0128db5aa7",
   "metadata": {},
   "source": [
    "### Bibliotecas"
   ]
  },
  {
   "cell_type": "code",
   "execution_count": 19,
   "id": "b0fa865b-2256-480c-b0ef-6265b4cdb426",
   "metadata": {},
   "outputs": [],
   "source": [
    "from pyspark.sql import SparkSession\n",
    "from pyspark.sql.functions import col"
   ]
  },
  {
   "cell_type": "markdown",
   "id": "e852d9f2-c8b8-42db-817d-79091711b518",
   "metadata": {},
   "source": [
    "### Setup"
   ]
  },
  {
   "cell_type": "code",
   "execution_count": 20,
   "id": "5887d802-6030-4cb3-903f-b3794e0b69e4",
   "metadata": {},
   "outputs": [],
   "source": [
    "spark = SparkSession.builder.getOrCreate()"
   ]
  },
  {
   "cell_type": "markdown",
   "id": "b45cef5b-15e3-4769-bed6-e7a9eb02d0e9",
   "metadata": {},
   "source": [
    "df = spark.createDataFrame([('Pedro','4'),('João','5')], schema='name STRING, id STRING')"
   ]
  },
  {
   "cell_type": "code",
   "execution_count": 21,
   "id": "46cb9bd9-cd60-4ccd-a861-c9a4683f2994",
   "metadata": {},
   "outputs": [
    {
     "name": "stdout",
     "output_type": "stream",
     "text": [
      "+-----+---+\n",
      "| name| id|\n",
      "+-----+---+\n",
      "|Pedro|  4|\n",
      "| João|  5|\n",
      "+-----+---+\n",
      "\n"
     ]
    }
   ],
   "source": [
    "df.show()"
   ]
  },
  {
   "cell_type": "markdown",
   "id": "a398f2e5-036b-4b46-ad31-b7fe1723732a",
   "metadata": {},
   "source": [
    "### Acessando os tipos Spark"
   ]
  },
  {
   "cell_type": "code",
   "execution_count": 22,
   "id": "4d8f32b1-999d-4f59-b6ff-a16a6dafa2bc",
   "metadata": {},
   "outputs": [],
   "source": [
    "from pyspark.sql.types import *"
   ]
  },
  {
   "cell_type": "code",
   "execution_count": 23,
   "id": "30737d8e-a1ee-4bb6-a27d-271f9a2e9ef4",
   "metadata": {},
   "outputs": [],
   "source": [
    "int_type = IntegerType()"
   ]
  },
  {
   "cell_type": "code",
   "execution_count": 24,
   "id": "c6f57241-26d0-4990-a388-03d63f7aa4c6",
   "metadata": {},
   "outputs": [
    {
     "data": {
      "text/plain": [
       "IntegerType"
      ]
     },
     "execution_count": 24,
     "metadata": {},
     "output_type": "execute_result"
    }
   ],
   "source": [
    "int_type"
   ]
  },
  {
   "cell_type": "code",
   "execution_count": 25,
   "id": "c199fd31-c323-41e3-a19c-b44c8b56f3d8",
   "metadata": {},
   "outputs": [],
   "source": [
    "array_integer = ArrayType(IntegerType())"
   ]
  },
  {
   "cell_type": "code",
   "execution_count": 26,
   "id": "c2b3625d-718d-4499-bd60-6edc3020be95",
   "metadata": {},
   "outputs": [
    {
     "data": {
      "text/plain": [
       "ArrayType(IntegerType,true)"
      ]
     },
     "execution_count": 26,
     "metadata": {},
     "output_type": "execute_result"
    }
   ],
   "source": [
    "array_integer"
   ]
  },
  {
   "cell_type": "markdown",
   "id": "6e0cd6d1-711d-4610-8ef1-d8152e90d3c1",
   "metadata": {},
   "source": [
    "### Convertendo o tipo de Colunas"
   ]
  },
  {
   "cell_type": "code",
   "execution_count": 27,
   "id": "a4f4a852-262d-4295-b0e1-eacfbfff5ab3",
   "metadata": {},
   "outputs": [
    {
     "name": "stdout",
     "output_type": "stream",
     "text": [
      "+-----+---+\n",
      "| name| id|\n",
      "+-----+---+\n",
      "|Pedro|  4|\n",
      "| João|  5|\n",
      "+-----+---+\n",
      "\n"
     ]
    }
   ],
   "source": [
    "df.show()"
   ]
  },
  {
   "cell_type": "code",
   "execution_count": 28,
   "id": "18ef766c-cd26-4ae7-acb9-cd0045f7c71c",
   "metadata": {},
   "outputs": [
    {
     "data": {
      "text/plain": [
       "[('name', 'string'), ('id', 'string')]"
      ]
     },
     "execution_count": 28,
     "metadata": {},
     "output_type": "execute_result"
    }
   ],
   "source": [
    "df.dtypes"
   ]
  },
  {
   "cell_type": "code",
   "execution_count": 30,
   "id": "9be23d13-c208-4a3d-9345-ff5bb70209cb",
   "metadata": {},
   "outputs": [
    {
     "data": {
      "text/plain": [
       "DataFrame[name: string, id: int]"
      ]
     },
     "execution_count": 30,
     "metadata": {},
     "output_type": "execute_result"
    }
   ],
   "source": [
    "df.select('name', col('id').cast('int'))"
   ]
  },
  {
   "cell_type": "code",
   "execution_count": 31,
   "id": "5ebcbcd4-90b8-466c-b20d-ef2b51c11352",
   "metadata": {},
   "outputs": [
    {
     "data": {
      "text/plain": [
       "DataFrame[name: string, id: int]"
      ]
     },
     "execution_count": 31,
     "metadata": {},
     "output_type": "execute_result"
    }
   ],
   "source": [
    "df.select('name', col('id').cast(IntegerType()))"
   ]
  },
  {
   "cell_type": "markdown",
   "id": "c28d8817-8e2a-4dd4-bcca-8f0cbb42f40b",
   "metadata": {},
   "source": [
    "### Schema e criação da DataFrames"
   ]
  },
  {
   "cell_type": "code",
   "execution_count": 33,
   "id": "fdc1a5d8-dafd-4a54-be72-a0f2b02ef331",
   "metadata": {},
   "outputs": [],
   "source": [
    "df = spark.createDataFrame([('Pedro','4'),('João','5')])"
   ]
  },
  {
   "cell_type": "code",
   "execution_count": 37,
   "id": "b9d71211-a7c6-47e2-9dc1-43fb21673aa8",
   "metadata": {},
   "outputs": [
    {
     "data": {
      "text/plain": [
       "[('_1', 'string'), ('_2', 'string')]"
      ]
     },
     "execution_count": 37,
     "metadata": {},
     "output_type": "execute_result"
    }
   ],
   "source": [
    "df.dtypes"
   ]
  },
  {
   "cell_type": "code",
   "execution_count": 36,
   "id": "6ff43ae5-66c5-4bbc-81ae-21930f05691b",
   "metadata": {},
   "outputs": [
    {
     "name": "stdout",
     "output_type": "stream",
     "text": [
      "+-----+---+\n",
      "|   _1| _2|\n",
      "+-----+---+\n",
      "|Pedro|  4|\n",
      "| João|  5|\n",
      "+-----+---+\n",
      "\n"
     ]
    }
   ],
   "source": [
    "df.show()"
   ]
  },
  {
   "cell_type": "markdown",
   "id": "cf37cec0-e22e-48e1-9026-4ba8a682b143",
   "metadata": {},
   "source": [
    "### Criando schemas programaticamente"
   ]
  },
  {
   "cell_type": "code",
   "execution_count": 39,
   "id": "97c4553d-c40f-425e-b8b2-1670bf10c130",
   "metadata": {},
   "outputs": [],
   "source": [
    "schema  = StructType([\n",
    "    StructField('nome',StringType()),\n",
    "    StructField('id',IntegerType())\n",
    "])"
   ]
  },
  {
   "cell_type": "code",
   "execution_count": 41,
   "id": "9fd19136-b3a3-4f93-9af6-f9c7742b47d5",
   "metadata": {},
   "outputs": [],
   "source": [
    "df = spark.createDataFrame([('Pedro',4),('João',4)], schema=schema)"
   ]
  },
  {
   "cell_type": "code",
   "execution_count": 42,
   "id": "3fe43c96-53ef-4ff6-9da6-c3ac7c764d16",
   "metadata": {},
   "outputs": [
    {
     "name": "stdout",
     "output_type": "stream",
     "text": [
      "+-----+---+\n",
      "| nome| id|\n",
      "+-----+---+\n",
      "|Pedro|  4|\n",
      "| João|  4|\n",
      "+-----+---+\n",
      "\n"
     ]
    }
   ],
   "source": [
    "df.show()"
   ]
  },
  {
   "cell_type": "code",
   "execution_count": 43,
   "id": "77c6b80c-94f8-45d1-a3f9-fc288801f346",
   "metadata": {},
   "outputs": [
    {
     "data": {
      "text/plain": [
       "[('nome', 'string'), ('id', 'int')]"
      ]
     },
     "execution_count": 43,
     "metadata": {},
     "output_type": "execute_result"
    }
   ],
   "source": [
    "df.dtypes"
   ]
  },
  {
   "cell_type": "markdown",
   "id": "8e12f4f5-c98a-4ee6-9b0d-a96e6e0176a1",
   "metadata": {},
   "source": [
    "### Criando schemas com DDL"
   ]
  },
  {
   "cell_type": "code",
   "execution_count": 45,
   "id": "f1f91c2f-aba6-4d34-b2b5-d6d424f57814",
   "metadata": {},
   "outputs": [],
   "source": [
    "schema = 'nome STRING,id INT'"
   ]
  },
  {
   "cell_type": "code",
   "execution_count": 46,
   "id": "315566cf-074e-4c9d-936a-278ed9d0d07b",
   "metadata": {},
   "outputs": [],
   "source": [
    "df = spark.createDataFrame([('Pedro',4),('João',4)], schema=schema)"
   ]
  },
  {
   "cell_type": "code",
   "execution_count": 47,
   "id": "1d69be1e-0844-4157-878d-b1aec60bc138",
   "metadata": {},
   "outputs": [
    {
     "data": {
      "text/plain": [
       "[('nome', 'string'), ('id', 'int')]"
      ]
     },
     "execution_count": 47,
     "metadata": {},
     "output_type": "execute_result"
    }
   ],
   "source": [
    "df.dtypes"
   ]
  },
  {
   "cell_type": "markdown",
   "id": "8c0a3e91-5fc8-4855-bb4e-a16059179b60",
   "metadata": {},
   "source": [
    "### Criando DataFrames"
   ]
  },
  {
   "cell_type": "code",
   "execution_count": 49,
   "id": "6ad5e405-e558-4b41-9c79-970c304a620b",
   "metadata": {},
   "outputs": [],
   "source": [
    "data = [('Pedro',4),('João',4)]"
   ]
  },
  {
   "cell_type": "code",
   "execution_count": 50,
   "id": "af31968d-020e-4bc4-9bd8-83a24de16d05",
   "metadata": {},
   "outputs": [],
   "source": [
    "df = spark.createDataFrame(data, schema)"
   ]
  },
  {
   "cell_type": "code",
   "execution_count": 51,
   "id": "67bd0e07-6610-4597-aecf-b1b54c008009",
   "metadata": {},
   "outputs": [
    {
     "name": "stdout",
     "output_type": "stream",
     "text": [
      "+-----+---+\n",
      "| nome| id|\n",
      "+-----+---+\n",
      "|Pedro|  4|\n",
      "| João|  4|\n",
      "+-----+---+\n",
      "\n"
     ]
    }
   ],
   "source": [
    "df.show()"
   ]
  },
  {
   "cell_type": "code",
   "execution_count": 52,
   "id": "c267d8a2-ab0f-41c0-b6f6-e1bc890bde13",
   "metadata": {},
   "outputs": [
    {
     "name": "stdout",
     "output_type": "stream",
     "text": [
      "root\n",
      " |-- nome: string (nullable = true)\n",
      " |-- id: integer (nullable = true)\n",
      "\n"
     ]
    }
   ],
   "source": [
    "df.printSchema()"
   ]
  },
  {
   "cell_type": "code",
   "execution_count": null,
   "id": "91c2c1bf-2735-4463-8b3e-21ac0fa3c0b4",
   "metadata": {},
   "outputs": [],
   "source": []
  }
 ],
 "metadata": {
  "kernelspec": {
   "display_name": "Python 3",
   "language": "python",
   "name": "python3"
  },
  "language_info": {
   "codemirror_mode": {
    "name": "ipython",
    "version": 3
   },
   "file_extension": ".py",
   "mimetype": "text/x-python",
   "name": "python",
   "nbconvert_exporter": "python",
   "pygments_lexer": "ipython3",
   "version": "3.9.4"
  }
 },
 "nbformat": 4,
 "nbformat_minor": 5
}
