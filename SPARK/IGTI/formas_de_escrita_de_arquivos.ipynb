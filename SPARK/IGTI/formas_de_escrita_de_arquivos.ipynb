{
 "cells": [
  {
   "cell_type": "code",
   "execution_count": null,
   "id": "2729b524-f6c1-4571-9a99-b4f4521bff38",
   "metadata": {},
   "outputs": [],
   "source": [
    "# Formas de escrita de arquivos"
   ]
  },
  {
   "cell_type": "code",
   "execution_count": 1,
   "id": "734718c9-5982-4fec-a4ec-a03a219f6710",
   "metadata": {},
   "outputs": [],
   "source": [
    "from pyspark.sql import SparkSession"
   ]
  },
  {
   "cell_type": "code",
   "execution_count": 2,
   "id": "823b7f14-d231-431a-9018-a5afda758b50",
   "metadata": {},
   "outputs": [],
   "source": [
    "spark = SparkSession.builder.getOrCreate()"
   ]
  },
  {
   "cell_type": "code",
   "execution_count": null,
   "id": "dfe4d3f5-615c-4acc-a96f-58b253b25427",
   "metadata": {},
   "outputs": [],
   "source": [
    "spark.write.parquet('path/to/file', key='value')"
   ]
  },
  {
   "cell_type": "code",
   "execution_count": null,
   "id": "511985b2-a347-455b-a234-e146875bf624",
   "metadata": {},
   "outputs": [],
   "source": [
    "spark.write.format('parquet').option('key', 'value').save('path/to/file')\n",
    "spark.write.format('parquet').option('key', 'value').saveAsTable('table_name')"
   ]
  }
 ],
 "metadata": {
  "kernelspec": {
   "display_name": "Python 3",
   "language": "python",
   "name": "python3"
  },
  "language_info": {
   "codemirror_mode": {
    "name": "ipython",
    "version": 3
   },
   "file_extension": ".py",
   "mimetype": "text/x-python",
   "name": "python",
   "nbconvert_exporter": "python",
   "pygments_lexer": "ipython3",
   "version": "3.9.4"
  }
 },
 "nbformat": 4,
 "nbformat_minor": 5
}
