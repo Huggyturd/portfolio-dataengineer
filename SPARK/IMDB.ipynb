{
 "cells": [
  {
   "cell_type": "markdown",
   "id": "fc8b52a1-2eac-442f-ba2b-60728283979d",
   "metadata": {},
   "source": [
    "Bibliotecas"
   ]
  },
  {
   "cell_type": "code",
   "execution_count": 2,
   "id": "769e2040-3d94-49db-9047-65368a1cf000",
   "metadata": {},
   "outputs": [],
   "source": [
    "from pyspark.sql import SparkSession\n",
    "from pyspark.sql.functions import col"
   ]
  },
  {
   "cell_type": "code",
   "execution_count": 3,
   "id": "68959b1d-9eb7-4d31-aa45-7a1e6fbdef69",
   "metadata": {},
   "outputs": [],
   "source": [
    "spark = SparkSession.builder.getOrCreate()"
   ]
  },
  {
   "cell_type": "code",
   "execution_count": 4,
   "id": "b080546f-3097-4bb6-afb5-ef9b238d9199",
   "metadata": {},
   "outputs": [],
   "source": [
    "df_titles = spark.read.csv('title_basics.tsv',header=True,sep='\\t')\n",
    "df_ratings = spark.read.csv('title_ratings.tsv',header=True,sep='\\t')"
   ]
  },
  {
   "cell_type": "code",
   "execution_count": 5,
   "id": "35d0c533-caa4-45f7-bd8b-d73f7b73f676",
   "metadata": {},
   "outputs": [
    {
     "data": {
      "text/plain": [
       "8203690"
      ]
     },
     "execution_count": 5,
     "metadata": {},
     "output_type": "execute_result"
    }
   ],
   "source": [
    "df_titles.count()"
   ]
  },
  {
   "cell_type": "code",
   "execution_count": null,
   "id": "524bbe38-ec4b-4cd7-a03e-dd0a6b9c446d",
   "metadata": {},
   "outputs": [],
   "source": []
  }
 ],
 "metadata": {
  "kernelspec": {
   "display_name": "Python 3",
   "language": "python",
   "name": "python3"
  },
  "language_info": {
   "codemirror_mode": {
    "name": "ipython",
    "version": 3
   },
   "file_extension": ".py",
   "mimetype": "text/x-python",
   "name": "python",
   "nbconvert_exporter": "python",
   "pygments_lexer": "ipython3",
   "version": "3.9.4"
  }
 },
 "nbformat": 4,
 "nbformat_minor": 5
}
