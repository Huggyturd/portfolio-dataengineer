{
 "cells": [
  {
   "cell_type": "code",
   "execution_count": 1,
   "id": "24235a9d-36ba-458c-a942-edab9679dd23",
   "metadata": {},
   "outputs": [],
   "source": [
    "# Lendo parquet pelos dois modos"
   ]
  },
  {
   "cell_type": "code",
   "execution_count": 2,
   "id": "57dc63d7-54de-4cbf-8ae7-f0f4b017b90a",
   "metadata": {},
   "outputs": [],
   "source": [
    "from pyspark.sql import SparkSession"
   ]
  },
  {
   "cell_type": "code",
   "execution_count": 3,
   "id": "37ce066b-5cd0-4179-bb9a-82cba8d4f21d",
   "metadata": {},
   "outputs": [],
   "source": [
    "spark = SparkSession.builder.getOrCreate()"
   ]
  },
  {
   "cell_type": "code",
   "execution_count": 4,
   "id": "9aca5c7c-6d9b-4c66-92cb-396d488b1f27",
   "metadata": {},
   "outputs": [],
   "source": [
    "df = spark.read.parquet('imdb_parquet/')"
   ]
  },
  {
   "cell_type": "code",
   "execution_count": 5,
   "id": "b8e84516-0243-42b4-ae70-e25376991e13",
   "metadata": {},
   "outputs": [],
   "source": [
    "df = spark.read.format('parquet').load('imdb_parquet/')"
   ]
  },
  {
   "cell_type": "code",
   "execution_count": null,
   "id": "63633d1d-7588-48c0-b766-ad3e0e91c9a0",
   "metadata": {},
   "outputs": [],
   "source": []
  }
 ],
 "metadata": {
  "kernelspec": {
   "display_name": "Python 3",
   "language": "python",
   "name": "python3"
  },
  "language_info": {
   "codemirror_mode": {
    "name": "ipython",
    "version": 3
   },
   "file_extension": ".py",
   "mimetype": "text/x-python",
   "name": "python",
   "nbconvert_exporter": "python",
   "pygments_lexer": "ipython3",
   "version": "3.9.4"
  }
 },
 "nbformat": 4,
 "nbformat_minor": 5
}
