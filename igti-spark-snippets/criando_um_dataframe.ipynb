{
 "cells": [
  {
   "cell_type": "code",
   "execution_count": 3,
   "id": "3f4ffecd-2188-4530-8e23-44969f1c0d11",
   "metadata": {},
   "outputs": [],
   "source": [
    "# Criando um DataFrame"
   ]
  },
  {
   "cell_type": "code",
   "execution_count": 2,
   "id": "e5bac175-f82f-4c29-9845-48d560b19f53",
   "metadata": {},
   "outputs": [],
   "source": [
    "from pyspark.sql import SparkSession"
   ]
  },
  {
   "cell_type": "code",
   "execution_count": 6,
   "id": "56947c3e-01ac-418f-a8cd-a2ef2d1dbb17",
   "metadata": {},
   "outputs": [],
   "source": [
    "spark = SparkSession.builder.getOrCreate()"
   ]
  },
  {
   "cell_type": "code",
   "execution_count": 4,
   "id": "1efc61ef-5a4d-4f92-a48b-1f2bffa66fa9",
   "metadata": {},
   "outputs": [],
   "source": [
    "schema = 'nome STRING, nota INT'"
   ]
  },
  {
   "cell_type": "code",
   "execution_count": 9,
   "id": "b8c114cd-6161-4ff4-895e-8313ff803a63",
   "metadata": {},
   "outputs": [],
   "source": [
    "data = [('Cleiton',10),('Lucas',10),('Marcos',10)]"
   ]
  },
  {
   "cell_type": "code",
   "execution_count": 10,
   "id": "20af8e42-8a25-4c80-aca6-fdc442293714",
   "metadata": {},
   "outputs": [],
   "source": [
    "df = spark.createDataFrame(data=data,schema=schema)"
   ]
  },
  {
   "cell_type": "code",
   "execution_count": 11,
   "id": "5d49e1bd-72c1-48db-80f1-e119fdac048a",
   "metadata": {},
   "outputs": [
    {
     "name": "stdout",
     "output_type": "stream",
     "text": [
      "+-------+----+\n",
      "|   nome|nota|\n",
      "+-------+----+\n",
      "|Cleiton|  10|\n",
      "|  Lucas|  10|\n",
      "| Marcos|  10|\n",
      "+-------+----+\n",
      "\n"
     ]
    }
   ],
   "source": [
    "df.show()"
   ]
  },
  {
   "cell_type": "code",
   "execution_count": null,
   "id": "abb66f4b-836f-4c40-937a-98b39ad69a3e",
   "metadata": {},
   "outputs": [],
   "source": []
  }
 ],
 "metadata": {
  "kernelspec": {
   "display_name": "Python 3",
   "language": "python",
   "name": "python3"
  },
  "language_info": {
   "codemirror_mode": {
    "name": "ipython",
    "version": 3
   },
   "file_extension": ".py",
   "mimetype": "text/x-python",
   "name": "python",
   "nbconvert_exporter": "python",
   "pygments_lexer": "ipython3",
   "version": "3.9.4"
  }
 },
 "nbformat": 4,
 "nbformat_minor": 5
}
