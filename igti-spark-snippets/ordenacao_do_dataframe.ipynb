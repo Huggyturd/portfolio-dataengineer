{
 "cells": [
  {
   "cell_type": "code",
   "execution_count": 1,
   "id": "1ee881b3-cdc0-4c4c-a6a5-88db07642382",
   "metadata": {},
   "outputs": [],
   "source": [
    "# Ordenação do DataFrame"
   ]
  },
  {
   "cell_type": "code",
   "execution_count": 2,
   "id": "61817618-6a18-4dd0-8fd6-b317fc0f740a",
   "metadata": {},
   "outputs": [],
   "source": [
    "from pyspark.sql import SparkSession\n",
    "from pyspark.sql.functions import col,asc,desc"
   ]
  },
  {
   "cell_type": "code",
   "execution_count": 3,
   "id": "41f36c35-c405-4a1a-aad1-b3ea1a665546",
   "metadata": {},
   "outputs": [],
   "source": [
    "spark = SparkSession.builder.getOrCreate()"
   ]
  },
  {
   "cell_type": "code",
   "execution_count": 4,
   "id": "12d08d88-c08a-479b-8dd5-9f52c36c7024",
   "metadata": {},
   "outputs": [],
   "source": [
    "df = spark.read.parquet('imdb_parquet/')"
   ]
  },
  {
   "cell_type": "code",
   "execution_count": null,
   "id": "8052a22a-6678-40a8-8c04-ad12b77e03c3",
   "metadata": {},
   "outputs": [],
   "source": [
    "# Ordenação ascendente"
   ]
  },
  {
   "cell_type": "code",
   "execution_count": 9,
   "id": "379d10da-f06b-4492-8457-b90f72ddfb60",
   "metadata": {},
   "outputs": [
    {
     "name": "stdout",
     "output_type": "stream",
     "text": [
      "+---------+---------+--------------------+--------------------+-------+---------+-------+--------------+--------------------+-------------+--------+\n",
      "|   tconst|titleType|        primaryTitle|       originalTitle|isAdult|startYear|endYear|runtimeMinutes|              genres|averageRating|numVotes|\n",
      "+---------+---------+--------------------+--------------------+-------+---------+-------+--------------+--------------------+-------------+--------+\n",
      "|tt0458020|    short|La mort du pape L...|La mort du pape L...|      0|     1903|     \\N|            \\N|   Documentary,Short|          9.8|       9|\n",
      "|tt2042685|    short|The Nigger Boy's ...|The Nigger Boy's ...|      0|     1904|     \\N|            \\N|        Comedy,Short|          9.9|      12|\n",
      "|tt0210346|    short|            Theodora|Teodora imperatri...|      0|     1909|     \\N|            \\N|               Short|          9.4|       9|\n",
      "|tt0172597|    movie|  Însir'te margarite|  Însir'te margarite|      0|     1911|     \\N|            \\N|                  \\N|          9.0|      15|\n",
      "|tt0002437|    short|     A Prize Package|     A Prize Package|      0|     1912|     \\N|            \\N|        Comedy,Short|          9.0|      12|\n",
      "|tt0002309|    short|Lincoln's Gettysb...|Lincoln's Gettysb...|      0|     1912|     \\N|            \\N|       History,Short|          9.0|      21|\n",
      "|tt0002434|    short|The Pony Express ...|The Pony Express ...|      0|     1912|     \\N|            \\N|       Short,Western|          9.2|      13|\n",
      "|tt0002582|    short|The Widow Casey's...|The Widow Casey's...|      0|     1912|     \\N|            \\N|        Comedy,Short|          9.0|      17|\n",
      "|tt1077011|    short|          The Sneeze|          The Sneeze|      0|     1914|     \\N|            \\N|        Comedy,Short|          9.3|      13|\n",
      "|tt0258117|    short|  Sally in Our Alley|  Sally in Our Alley|      0|     1916|     \\N|            40|       Romance,Short|         10.0|      12|\n",
      "|tt0007254|    short|       The Red Widow|       The Red Widow|      0|     1916|     \\N|            40|Comedy,Romance,Short|          9.0|      15|\n",
      "|tt0006371|    movie|  Arms and the Woman|  Arms and the Woman|      0|     1916|     \\N|            50|               Drama|          9.2|      18|\n",
      "|tt0007326|    movie|           Seventeen|           Seventeen|      0|     1916|     \\N|            50|        Comedy,Drama|          9.0|      16|\n",
      "|tt0009851|    movie|         Masked Ball|          Álarcosbál|      0|     1917|     \\N|            \\N|                  \\N|          9.4|      12|\n",
      "|tt0008528|    short|     A Régiséggyüjtö|     A Régiséggyüjtö|      0|     1918|     \\N|            \\N|               Short|          9.2|      15|\n",
      "|tt0266954|    short|   Victorious Serbia|   Victorious Serbia|      0|     1918|     \\N|            \\N|   Documentary,Short|          9.2|      20|\n",
      "|tt0012297|    movie|Hunger... Hunger....|Golod... golod......|      0|     1921|     \\N|            \\N|         Documentary|          9.4|      25|\n",
      "|tt0012623|    movie|The Rider of the ...|The Rider of the ...|      0|     1921|     \\N|            \\N|                  \\N|          9.6|      11|\n",
      "|tt0015927|    short|          Hot Doggie|          Hot Doggie|      0|     1925|     \\N|            20|        Comedy,Short|          9.7|      15|\n",
      "|tt0209012|    short|         Hard Boiled|         Hard Boiled|      0|     1925|     \\N|            \\N|        Comedy,Short|          9.1|      13|\n",
      "+---------+---------+--------------------+--------------------+-------+---------+-------+--------------+--------------------+-------------+--------+\n",
      "only showing top 20 rows\n",
      "\n"
     ]
    }
   ],
   "source": [
    "df.orderBy(asc(col('startYear'))).show()"
   ]
  },
  {
   "cell_type": "code",
   "execution_count": 1,
   "id": "07ba5648-3b60-4e86-a945-049e0e333cd5",
   "metadata": {},
   "outputs": [],
   "source": [
    "# Ordenação descendente"
   ]
  },
  {
   "cell_type": "code",
   "execution_count": 6,
   "id": "07bde036-f30c-4ae7-9461-3bdda8a80bcc",
   "metadata": {},
   "outputs": [
    {
     "name": "stdout",
     "output_type": "stream",
     "text": [
      "+----------+---------+--------------------+--------------------+-------+---------+-------+--------------+--------------------+-------------+--------+\n",
      "|    tconst|titleType|        primaryTitle|       originalTitle|isAdult|startYear|endYear|runtimeMinutes|              genres|averageRating|numVotes|\n",
      "+----------+---------+--------------------+--------------------+-------+---------+-------+--------------+--------------------+-------------+--------+\n",
      "| tt6150348|tvEpisode|Dev and Sona get ...|Dev and Sona get ...|      0|       \\N|     \\N|            \\N|       Drama,Romance|          9.5|      13|\n",
      "| tt0317481|    video|Faust Fucker - Dr...|Faust Fucker - Dr...|      1|       \\N|     \\N|            \\N|               Adult|          9.0|       8|\n",
      "| tt5280118|    movie|           Olympicos|           Olympicos|      0|       \\N|     \\N|            \\N|           Animation|          9.1|       9|\n",
      "| tt5707316|tvEpisode|Haunted by the Su...|Haunted by the Su...|      0|       \\N|     \\N|            \\N| Crime,Drama,Mystery|          9.2|       9|\n",
      "| tt5798534|tvEpisode|Neha and Sameer's...|Neha and Sameer's...|      0|       \\N|     \\N|            \\N|       Drama,Romance|          9.6|      38|\n",
      "| tt8306820|tvEpisode|               Pilot|               Pilot|      0|       \\N|     \\N|            \\N| Comedy,Drama,Family|          9.4|      48|\n",
      "| tt8306824|tvEpisode|        Episode #1.2|        Episode #1.2|      0|       \\N|     \\N|            \\N| Comedy,Drama,Family|          9.3|      46|\n",
      "| tt6295586|    short|        Bitter Honey|           Miel Amer|      0|       \\N|     \\N|            13|         Drama,Short|          9.2|       8|\n",
      "| tt8306828|tvEpisode|        Episode #1.4|        Episode #1.4|      0|       \\N|     \\N|            \\N| Comedy,Drama,Family|          9.7|      42|\n",
      "|tt10119538| tvSeries|Donnie Simpson Vi...|Donnie Simpson's ...|      0|       \\N|     \\N|            \\N|           Talk-Show|          9.9|      15|\n",
      "| tt1058961|tvEpisode|Aunt Chippy/Uncle...|Aunt Chippy/Uncle...|      0|       \\N|     \\N|            \\N|Comedy,Music,Talk...|          9.3|      44|\n",
      "| tt5734610|tvEpisode|   A Mother's Wisdom|   A Mother's Wisdom|      0|       \\N|     \\N|            \\N| Crime,Drama,Mystery|          9.1|      26|\n",
      "| tt6700294|tvEpisode|  In Pursuit of Prey|  In Pursuit of Prey|      0|       \\N|     \\N|            \\N| Crime,Drama,Mystery|          9.0|       8|\n",
      "| tt5856258|tvEpisode|   My Grandson's War|   My Grandson's War|      0|       \\N|     \\N|            \\N| Crime,Drama,Mystery|          9.2|      12|\n",
      "| tt4632838|tvEpisode|     Criminology 101|     Criminology 101|      0|       \\N|     \\N|            \\N| Crime,Drama,Mystery|          9.1|      25|\n",
      "|tt10172414|    movie|You Don't Know Ni...|You Don't Know Ni...|      0|       \\N|     \\N|            \\N|         Documentary|          9.0|      28|\n",
      "| tt8306826|tvEpisode|        Episode #1.3|        Episode #1.3|      0|       \\N|     \\N|            \\N| Comedy,Drama,Family|          9.5|      42|\n",
      "|tt10579514|tvEpisode|               Majka|               Majka|      0|       \\N|     \\N|            50| Crime,Drama,Mystery|          9.2|     162|\n",
      "|tt13364836|    short|            Distance|            Distance|      0|       \\N|     \\N|            \\N|       Fantasy,Short|          9.1|      19|\n",
      "| tt4616494|tvEpisode|       Promises Kept|       Promises Kept|      0|       \\N|     \\N|            \\N| Crime,Drama,Mystery|          9.1|      32|\n",
      "+----------+---------+--------------------+--------------------+-------+---------+-------+--------------+--------------------+-------------+--------+\n",
      "only showing top 20 rows\n",
      "\n"
     ]
    }
   ],
   "source": [
    "df.orderBy(desc(col('startYear'))).show()"
   ]
  },
  {
   "cell_type": "code",
   "execution_count": null,
   "id": "6dc21ab1-2988-4648-a8dc-3bfc45f65332",
   "metadata": {},
   "outputs": [],
   "source": []
  }
 ],
 "metadata": {
  "kernelspec": {
   "display_name": "Python 3",
   "language": "python",
   "name": "python3"
  },
  "language_info": {
   "codemirror_mode": {
    "name": "ipython",
    "version": 3
   },
   "file_extension": ".py",
   "mimetype": "text/x-python",
   "name": "python",
   "nbconvert_exporter": "python",
   "pygments_lexer": "ipython3",
   "version": "3.9.4"
  }
 },
 "nbformat": 4,
 "nbformat_minor": 5
}
