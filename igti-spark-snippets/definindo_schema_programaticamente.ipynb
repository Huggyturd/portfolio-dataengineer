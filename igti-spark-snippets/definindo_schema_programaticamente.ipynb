{
 "cells": [
  {
   "cell_type": "code",
   "execution_count": 2,
   "id": "0a67d55b-7c43-44e9-8bd2-f3c631a0c181",
   "metadata": {},
   "outputs": [],
   "source": [
    "# Definindo schema programaticamente"
   ]
  },
  {
   "cell_type": "code",
   "execution_count": 1,
   "id": "7357f69e-9b58-4763-9448-c39cff75bb95",
   "metadata": {},
   "outputs": [],
   "source": [
    "from pyspark.sql import SparkSession"
   ]
  },
  {
   "cell_type": "code",
   "execution_count": 3,
   "id": "021f56da-322c-4fbc-9c26-b330cfac40a8",
   "metadata": {},
   "outputs": [],
   "source": [
    "from pyspark.sql.types import *"
   ]
  },
  {
   "cell_type": "code",
   "execution_count": null,
   "id": "351f3b44-00f7-447c-ab80-38b052fd5866",
   "metadata": {},
   "outputs": [],
   "source": []
  },
  {
   "cell_type": "code",
   "execution_count": 4,
   "id": "9d6af2af-a6fe-492a-91c9-9e779fe9382c",
   "metadata": {},
   "outputs": [],
   "source": [
    "# Cria o schema"
   ]
  },
  {
   "cell_type": "code",
   "execution_count": 5,
   "id": "55214625-3575-4a9c-b42d-e75249c4aa5a",
   "metadata": {},
   "outputs": [],
   "source": [
    "schema = StructType([\n",
    "    StructField('nome', StringType()),\n",
    "    StructField('id', IntegerType())\n",
    "])"
   ]
  },
  {
   "cell_type": "code",
   "execution_count": 6,
   "id": "7ded2893-485d-492c-b5a7-95ffd9f1b096",
   "metadata": {},
   "outputs": [],
   "source": [
    "# Quando existem muitas variáveis de um mesmo tipo vale a pena usar iterações"
   ]
  },
  {
   "cell_type": "code",
   "execution_count": 7,
   "id": "e9920769-0f7b-4a3d-92a2-10d6e79b4b20",
   "metadata": {},
   "outputs": [],
   "source": [
    "columns = ['nome', 'rua', 'bairro']"
   ]
  },
  {
   "cell_type": "code",
   "execution_count": 8,
   "id": "648b08b8-4d57-4a33-991c-1748159d5ab6",
   "metadata": {},
   "outputs": [],
   "source": [
    "schema = StructType(\n",
    "    [StructField(c, StringType()) for c in columns]\n",
    ")"
   ]
  },
  {
   "cell_type": "code",
   "execution_count": 9,
   "id": "b8631958-1303-43e8-b57b-7787ef781d19",
   "metadata": {},
   "outputs": [],
   "source": [
    "# Utilizando schema DDL"
   ]
  },
  {
   "cell_type": "code",
   "execution_count": 10,
   "id": "d03ac96e-91d7-4520-b9f8-35b17a4d9c6a",
   "metadata": {},
   "outputs": [],
   "source": [
    "schema = 'nome STRING, id INT'"
   ]
  },
  {
   "cell_type": "code",
   "execution_count": null,
   "id": "22659fa4-17e7-453a-8e2e-7c811a8a4e09",
   "metadata": {},
   "outputs": [],
   "source": []
  }
 ],
 "metadata": {
  "kernelspec": {
   "display_name": "Python 3",
   "language": "python",
   "name": "python3"
  },
  "language_info": {
   "codemirror_mode": {
    "name": "ipython",
    "version": 3
   },
   "file_extension": ".py",
   "mimetype": "text/x-python",
   "name": "python",
   "nbconvert_exporter": "python",
   "pygments_lexer": "ipython3",
   "version": "3.9.4"
  }
 },
 "nbformat": 4,
 "nbformat_minor": 5
}
