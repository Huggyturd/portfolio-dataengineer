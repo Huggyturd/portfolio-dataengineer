{
 "cells": [
  {
   "cell_type": "code",
   "execution_count": 5,
   "id": "d7adc421-de91-4e9e-bea9-d11673bc47da",
   "metadata": {},
   "outputs": [],
   "source": [
    "# Mudando tipo de coluna"
   ]
  },
  {
   "cell_type": "code",
   "execution_count": 6,
   "id": "02a889e8-aea6-43d9-9026-cccb97dcdc96",
   "metadata": {},
   "outputs": [],
   "source": [
    "from pyspark.sql import SparkSession"
   ]
  },
  {
   "cell_type": "code",
   "execution_count": 3,
   "id": "8705eeca-3965-4ab3-b807-dc4178221747",
   "metadata": {},
   "outputs": [],
   "source": [
    "from pyspark.sql.types import IntegerType"
   ]
  },
  {
   "cell_type": "code",
   "execution_count": 4,
   "id": "919bb8a6-53cd-4976-bbcd-07c2b8141679",
   "metadata": {},
   "outputs": [],
   "source": [
    "from pyspark.sql.functions import col"
   ]
  },
  {
   "cell_type": "code",
   "execution_count": 9,
   "id": "71cb9689-3489-40dc-9dec-01e2d39f5535",
   "metadata": {},
   "outputs": [],
   "source": [
    "spark = SparkSession.builder.getOrCreate()"
   ]
  },
  {
   "cell_type": "code",
   "execution_count": 10,
   "id": "f64b7446-1606-4e32-b068-2b6229119647",
   "metadata": {},
   "outputs": [],
   "source": [
    "# Criando dataframe como método createDataFrame recendo uma lista com tuplas de duas colunas e passando o schema"
   ]
  },
  {
   "cell_type": "code",
   "execution_count": 8,
   "id": "b1d86317-e157-47e5-9daa-5dc9e2e2eeb9",
   "metadata": {},
   "outputs": [],
   "source": [
    "df = spark.createDataFrame([('Pedro','4'),('João','5')], schema=['nome', 'id'] )"
   ]
  },
  {
   "cell_type": "code",
   "execution_count": null,
   "id": "64630c9d-bbd3-41ec-ab61-21ecf6e5a0c5",
   "metadata": {},
   "outputs": [],
   "source": [
    "# Utilizando o objeto do tipo diretamente"
   ]
  },
  {
   "cell_type": "code",
   "execution_count": 11,
   "id": "dfe5d290-b8ad-4fc7-8929-2087a213ff18",
   "metadata": {},
   "outputs": [
    {
     "data": {
      "text/plain": [
       "DataFrame[nome: string, id: int]"
      ]
     },
     "execution_count": 11,
     "metadata": {},
     "output_type": "execute_result"
    }
   ],
   "source": [
    "df.select('nome', col('id').cast(IntegerType()))"
   ]
  },
  {
   "cell_type": "code",
   "execution_count": null,
   "id": "196016cf-2efa-4a07-a14f-3bc1ec62f1d0",
   "metadata": {},
   "outputs": [],
   "source": [
    "# Utilizando uma string que referência o tipo de dado"
   ]
  },
  {
   "cell_type": "code",
   "execution_count": 12,
   "id": "cb5135c0-5890-4635-8c71-c85f94c3e3d9",
   "metadata": {},
   "outputs": [
    {
     "data": {
      "text/plain": [
       "DataFrame[nome: string, id: int]"
      ]
     },
     "execution_count": 12,
     "metadata": {},
     "output_type": "execute_result"
    }
   ],
   "source": [
    "df.select('nome', col('id').cast('int'))"
   ]
  },
  {
   "cell_type": "code",
   "execution_count": null,
   "id": "154eed41-718e-427b-876f-8c32770f8b71",
   "metadata": {},
   "outputs": [],
   "source": []
  },
  {
   "cell_type": "code",
   "execution_count": null,
   "id": "d35266e4-2f26-41ae-9685-4571d913c592",
   "metadata": {},
   "outputs": [],
   "source": []
  }
 ],
 "metadata": {
  "kernelspec": {
   "display_name": "Python 3",
   "language": "python",
   "name": "python3"
  },
  "language_info": {
   "codemirror_mode": {
    "name": "ipython",
    "version": 3
   },
   "file_extension": ".py",
   "mimetype": "text/x-python",
   "name": "python",
   "nbconvert_exporter": "python",
   "pygments_lexer": "ipython3",
   "version": "3.9.4"
  }
 },
 "nbformat": 4,
 "nbformat_minor": 5
}
